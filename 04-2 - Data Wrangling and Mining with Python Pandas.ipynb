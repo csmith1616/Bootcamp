{
 "cells": [
  {
   "cell_type": "markdown",
   "metadata": {},
   "source": [
    "### Task 1 - Group by"
   ]
  },
  {
   "cell_type": "markdown",
   "metadata": {},
   "source": [
    "##### 1. Given a DataFrame ‘df’ with columns ‘A’, ‘B’, and ‘C’, where ‘A’ and ‘B’ are categorical variables and ‘C’ is a numerical variable, write a code to group the DataFrame by column ‘A’ and calculate the sum of ‘C’ for each group.\n",
    "\n",
    "```\n",
    "'Store': ['Store1', 'Store2', 'Store1', 'Store2', 'Store1', 'Store2', 'Store1', 'Store1'],\n",
    "'Product': ['Apple', 'Banana', 'Cherry', 'Apple', 'Banana', 'Cherry', 'Apple', 'Banana'],\n",
    "'Sales': [100, 200, 150, 300, 250, 150, 200, 300]\n",
    "```\n",
    "\n",
    "Note: The groupby function is used to split the data into groups based on some criteria. The sum function is then used to calculate the sum of ‘C’ for each group.\n",
    "\n",
    "```\n",
    "Do not forget to import pandas as pd\n",
    "```"
   ]
  },
  {
   "cell_type": "code",
   "execution_count": 1,
   "metadata": {},
   "outputs": [
    {
     "name": "stdout",
     "output_type": "stream",
     "text": [
      "Store\n",
      "Store1    970\n",
      "Store2    650\n",
      "Name: Sales, dtype: int64\n"
     ]
    }
   ],
   "source": [
    "import pandas as pd\n",
    "\n",
    "df =pd.DataFrame(\n",
    "    {'Store': ['Store1', 'Store2', 'Store1', 'Store2', 'Store1', 'Store2', 'Store1', 'Store1'],\n",
    "    'Product': ['Apple', 'Banana', 'Cherry', 'Apple', 'Banana', 'Cherry', 'Apple', 'Banana'],\n",
    "    'Sales': [100,200,120,300,250,150,200,300]}\n",
    "    )\n",
    "\n",
    "grouped_data = df.groupby('Store')\n",
    "total_sales = grouped_data['Sales'].sum()\n",
    "\n",
    "print(total_sales)\n",
    "\n"
   ]
  },
  {
   "cell_type": "markdown",
   "metadata": {},
   "source": [
    "##### 2. Now, modify your code to group the DataFrame by both columns ‘A’ and ‘B’, and calculate the sum of ‘C’ for each group.\n",
    "\n",
    "```\n",
    "Note: You can pass a list of column names to the groupby function to group by multiple columns. The resulting groups are hierarchical and can provide more detailed insights.\n",
    "```"
   ]
  },
  {
   "cell_type": "code",
   "execution_count": 3,
   "metadata": {},
   "outputs": [
    {
     "name": "stdout",
     "output_type": "stream",
     "text": [
      "Store   Product\n",
      "Store1  Apple      300\n",
      "        Banana     550\n",
      "        Cherry     120\n",
      "Store2  Apple      300\n",
      "        Banana     200\n",
      "        Cherry     150\n",
      "Name: Sales, dtype: int64\n"
     ]
    }
   ],
   "source": [
    "import pandas as pd\n",
    "df =pd.DataFrame(\n",
    "    {'Store': ['Store1', 'Store2', 'Store1', 'Store2', 'Store1', 'Store2', 'Store1', 'Store1'],\n",
    "    'Product': ['Apple', 'Banana', 'Cherry', 'Apple', 'Banana', 'Cherry', 'Apple', 'Banana'],\n",
    "    'Sales': [100,200,120,300,250,150,200,300]}\n",
    "    )\n",
    "\n",
    "grouped_data = df.groupby(['Store', 'Product'])\n",
    "total_sales = grouped_data['Sales'].sum()\n",
    "\n",
    "print(total_sales)"
   ]
  },
  {
   "cell_type": "markdown",
   "metadata": {},
   "source": [
    "##### 3. Given a DataFrame ‘df’ with columns ‘City’, ‘Property_Type’, and ‘Price’, where ‘City’ and ‘Property_Type’ are categorical variables and ‘Price’ is a numerical variable, write a code to group the DataFrame by column ‘City’ and calculate the total price for each city.\n",
    "\n",
    "```\n",
    "'City': ['London', 'Paris', 'London', 'Paris', 'London', 'Paris', 'London', 'London'],\n",
    "'Property_Type': ['House', 'Apartment', 'House', 'Apartment', 'House', 'Apartment', 'House', 'Apartment'],\n",
    "'Price': [500000, 400000, 600000, 450000, 550000, 500000, 650000, 700000]\n",
    "```\n",
    "\n",
    "Note: The groupby function is used to split the data into groups based on some criteria. The sum function is then used to calculate the sum of ‘Price’ for each group."
   ]
  },
  {
   "cell_type": "code",
   "execution_count": 7,
   "metadata": {},
   "outputs": [
    {
     "name": "stdout",
     "output_type": "stream",
     "text": [
      "City\n",
      "London    3000000\n",
      "Paris     1350000\n",
      "Name: Price, dtype: int64\n"
     ]
    }
   ],
   "source": [
    "import pandas as pd\n",
    "data = {'City': ['London', 'Paris', 'London', 'Paris', 'London', 'Paris', 'London', 'London'],\n",
    "     'Property_Type': ['House', 'Apartment', 'House', 'Apartment', 'House', 'Apartment', 'House', 'Apartment'],\n",
    "     'Price': [500000, 400000, 600000, 450000, 550000, 500000, 650000, 700000]}\n",
    "df = pd.DataFrame(data)\n",
    "   \n",
    "grouped_data = df.groupby('City')\n",
    "total_sales = grouped_data['Price'].sum()\n",
    "\n",
    "print(total_sales)\n"
   ]
  },
  {
   "cell_type": "markdown",
   "metadata": {},
   "source": [
    "##### 4. Now, modify your code to group the DataFrame by both columns ‘City’ and ‘Property_Type’, and calculate the total price for each combination.\n",
    "\n",
    "Note: You can pass a list of column names to the groupby function to group by multiple columns. The resulting groups are hierarchical and can provide more detailed insights."
   ]
  },
  {
   "cell_type": "code",
   "execution_count": 8,
   "metadata": {},
   "outputs": [
    {
     "name": "stdout",
     "output_type": "stream",
     "text": [
      "City    Property_Type\n",
      "London  Apartment         700000\n",
      "        House            2300000\n",
      "Paris   Apartment        1350000\n",
      "Name: Price, dtype: int64\n"
     ]
    }
   ],
   "source": [
    "import pandas as pd\n",
    "df = pd.DataFrame(\n",
    "    {'City': ['London','Paris','London','Paris','London','Paris','London','London'],\n",
    "     'Property_Type': ['House','Apartment','House','Apartment','House','Apartment','House','Apartment'],\n",
    "     'Price': [500000,400000,600000,450000,550000,500000,650000,700000]}\n",
    "    )\n",
    "grouped_data = df.groupby(['City', 'Property_Type'])\n",
    "total_sales = grouped_data['Price'].sum()\n",
    "\n",
    "print(total_sales)"
   ]
  },
  {
   "cell_type": "markdown",
   "metadata": {},
   "source": [
    "### Task 2 - Data Aggregation"
   ]
  },
  {
   "cell_type": "markdown",
   "metadata": {},
   "source": [
    "##### 1. Given the same DataFrame, write a code to calculate the sum, max, min, mean, median and count of column ‘C’.\n",
    "\n",
    "```\n",
    "'Store': ['Store1', 'Store2', 'Store1', 'Store2', 'Store1', 'Store2', 'Store1', 'Store1'],\n",
    "'Product': ['Apple', 'Banana', 'Cherry', 'Apple', 'Banana', 'Cherry', 'Apple', 'Banana'],\n",
    "'Sales': [100, 200, 150, 300, 250, 150, 200, 300]\n",
    "```\n",
    "Note: The groupby function is used to split the data into groups based on some criteria. The sum function is then used to calculate the sum of ‘Sales’ for each group."
   ]
  },
  {
   "cell_type": "code",
   "execution_count": 6,
   "metadata": {},
   "outputs": [
    {
     "name": "stdout",
     "output_type": "stream",
     "text": [
      "Product\n",
      "Apple     600\n",
      "Banana    750\n",
      "Cherry    300\n",
      "Name: Sales, dtype: int64\n",
      "Product\n",
      "Apple     300\n",
      "Banana    300\n",
      "Cherry    150\n",
      "Name: Sales, dtype: int64\n",
      "Product\n",
      "Apple     100\n",
      "Banana    200\n",
      "Cherry    150\n",
      "Name: Sales, dtype: int64\n",
      "Product\n",
      "Apple     200.0\n",
      "Banana    250.0\n",
      "Cherry    150.0\n",
      "Name: Sales, dtype: float64\n",
      "Product\n",
      "Apple     200.0\n",
      "Banana    250.0\n",
      "Cherry    150.0\n",
      "Name: Sales, dtype: float64\n",
      "Product\n",
      "Apple     3\n",
      "Banana    3\n",
      "Cherry    2\n",
      "Name: Sales, dtype: int64\n"
     ]
    }
   ],
   "source": [
    "import pandas as pd\n",
    "data = {'Store': ['Store1', 'Store2', 'Store1', 'Store2', 'Store1', 'Store2', 'Store1', 'Store1'],\n",
    "        'Product': ['Apple', 'Banana', 'Cherry', 'Apple', 'Banana', 'Cherry', 'Apple', 'Banana'],\n",
    "        'Sales': [100, 200, 150, 300, 250, 150, 200, 300]}\n",
    "\n",
    "df = pd.DataFrame(data)\n",
    "\n",
    "grouped_data = df.groupby('Product')\n",
    "total_sales_sum = grouped_data['Sales'].sum()\n",
    "total_sales_max = grouped_data['Sales'].max()\n",
    "total_sales_min = grouped_data['Sales'].min()\n",
    "total_sales_mean = grouped_data['Sales'].mean()\n",
    "total_sales_median = grouped_data['Sales'].median()\n",
    "total_sales_count = grouped_data['Sales'].count()\n",
    "print(total_sales_sum)\n",
    "print(total_sales_max)\n",
    "print(total_sales_min)\n",
    "print(total_sales_mean)\n",
    "print(total_sales_median)\n",
    "print(total_sales_count)"
   ]
  },
  {
   "cell_type": "markdown",
   "metadata": {},
   "source": [
    "##### 2. Now, modify your code to calculate these aggregation functions for each group of column ‘Store’.\n",
    "\n",
    "Note: You can combine groupby and agg functions to apply multiple aggregations on each group."
   ]
  },
  {
   "cell_type": "code",
   "execution_count": 9,
   "metadata": {},
   "outputs": [
    {
     "name": "stdout",
     "output_type": "stream",
     "text": [
      "Store\n",
      "Store1    1000\n",
      "Store2     650\n",
      "Name: Sales, dtype: int64\n",
      "Store\n",
      "Store1    300\n",
      "Store2    300\n",
      "Name: Sales, dtype: int64\n",
      "Store\n",
      "Store1    100\n",
      "Store2    150\n",
      "Name: Sales, dtype: int64\n",
      "Store\n",
      "Store1    200.000000\n",
      "Store2    216.666667\n",
      "Name: Sales, dtype: float64\n",
      "Store\n",
      "Store1    200.0\n",
      "Store2    200.0\n",
      "Name: Sales, dtype: float64\n",
      "Store\n",
      "Store1    5\n",
      "Store2    3\n",
      "Name: Sales, dtype: int64\n"
     ]
    }
   ],
   "source": [
    "import pandas as pd\n",
    "data = {'Store': ['Store1', 'Store2', 'Store1', 'Store2', 'Store1', 'Store2', 'Store1', 'Store1'],\n",
    "        'Product': ['Apple', 'Banana', 'Cherry', 'Apple', 'Banana', 'Cherry', 'Apple', 'Banana'],\n",
    "        'Sales': [100, 200, 150, 300, 250, 150, 200, 300]}\n",
    "\n",
    "df = pd.DataFrame(data)\n",
    "df = pd.DataFrame(data)\n",
    "\n",
    "grouped_data = df.groupby('Store')\n",
    "total_sales_sum = grouped_data['Sales'].sum()\n",
    "total_sales_max = grouped_data['Sales'].max()\n",
    "total_sales_min = grouped_data['Sales'].min()\n",
    "total_sales_mean = grouped_data['Sales'].mean()\n",
    "total_sales_median = grouped_data['Sales'].median()\n",
    "total_sales_count = grouped_data['Sales'].count()\n",
    "print(total_sales_sum)\n",
    "print(total_sales_max)\n",
    "print(total_sales_min)\n",
    "print(total_sales_mean)\n",
    "print(total_sales_median)\n",
    "print(total_sales_count)"
   ]
  },
  {
   "cell_type": "markdown",
   "metadata": {},
   "source": [
    "##### 3. Given the same DataFrame, write a code to calculate the total (sum), maximum (max), minimum (min), average (mean), middle value (median) and number (count) of prices.\n",
    "\n",
    "Note: The agg function is used to apply one or more operations over specified axis. It’s a flexible way to apply multiple aggregations on a Series or DataFrame."
   ]
  },
  {
   "cell_type": "code",
   "execution_count": 10,
   "metadata": {},
   "outputs": [
    {
     "name": "stdout",
     "output_type": "stream",
     "text": [
      "Sales\n",
      "100    100\n",
      "150    300\n",
      "200    400\n",
      "250    250\n",
      "300    600\n",
      "Name: Sales, dtype: int64\n",
      "Sales\n",
      "100    100\n",
      "150    150\n",
      "200    200\n",
      "250    250\n",
      "300    300\n",
      "Name: Sales, dtype: int64\n",
      "Sales\n",
      "100    100\n",
      "150    150\n",
      "200    200\n",
      "250    250\n",
      "300    300\n",
      "Name: Sales, dtype: int64\n",
      "Sales\n",
      "100    100.0\n",
      "150    150.0\n",
      "200    200.0\n",
      "250    250.0\n",
      "300    300.0\n",
      "Name: Sales, dtype: float64\n",
      "Sales\n",
      "100    100.0\n",
      "150    150.0\n",
      "200    200.0\n",
      "250    250.0\n",
      "300    300.0\n",
      "Name: Sales, dtype: float64\n",
      "Sales\n",
      "100    1\n",
      "150    2\n",
      "200    2\n",
      "250    1\n",
      "300    2\n",
      "Name: Sales, dtype: int64\n"
     ]
    }
   ],
   "source": [
    "import pandas as pd\n",
    "data = {'Store': ['Store1', 'Store2', 'Store1', 'Store2', 'Store1', 'Store2', 'Store1', 'Store1'],\n",
    "        'Product': ['Apple', 'Banana', 'Cherry', 'Apple', 'Banana', 'Cherry', 'Apple', 'Banana'],\n",
    "        'Sales': [100, 200, 150, 300, 250, 150, 200, 300]}\n",
    "\n",
    "df = pd.DataFrame(data)\n",
    "\n",
    "grouped_data = df.groupby('Sales')\n",
    "total_sales_sum = grouped_data['Sales'].sum()\n",
    "total_sales_max = grouped_data['Sales'].max()\n",
    "total_sales_min = grouped_data['Sales'].min()\n",
    "total_sales_mean = grouped_data['Sales'].mean()\n",
    "total_sales_median = grouped_data['Sales'].median()\n",
    "total_sales_count = grouped_data['Sales'].count()\n",
    "print(total_sales_sum)\n",
    "print(total_sales_max)\n",
    "print(total_sales_min)\n",
    "print(total_sales_mean)\n",
    "print(total_sales_median)\n",
    "print(total_sales_count)"
   ]
  },
  {
   "cell_type": "markdown",
   "metadata": {},
   "source": [
    "##### 4. Now, modify your code to calculate these aggregation functions for each group of column ‘City’.\n",
    "\n",
    "Note: You can combine groupby and agg functions to apply multiple aggregations on each group."
   ]
  },
  {
   "cell_type": "code",
   "execution_count": 14,
   "metadata": {},
   "outputs": [
    {
     "name": "stdout",
     "output_type": "stream",
     "text": [
      "Sum City\n",
      "London    3000000\n",
      "Paris     1350000\n",
      "Name: Price, dtype: int64\n",
      "Max City\n",
      "London    700000\n",
      "Paris     500000\n",
      "Name: Price, dtype: int64\n",
      "Min City\n",
      "London    500000\n",
      "Paris     400000\n",
      "Name: Price, dtype: int64\n",
      "Mean City\n",
      "London    600000.0\n",
      "Paris     450000.0\n",
      "Name: Price, dtype: float64\n",
      "Median City\n",
      "London    600000.0\n",
      "Paris     450000.0\n",
      "Name: Price, dtype: float64\n",
      "Count City\n",
      "London    5\n",
      "Paris     3\n",
      "Name: Price, dtype: int64\n",
      "City\n",
      "London    3000000\n",
      "Paris     1350000\n",
      "Name: Price, dtype: int64\n"
     ]
    }
   ],
   "source": [
    "import pandas as pd\n",
    "df = pd.DataFrame(\n",
    "    {'City': ['London','Paris','London','Paris','London','Paris','London','London'],\n",
    "     'Property_Type': ['House','Apartment','House','Apartment','House','Apartment','House','Apartment'],\n",
    "     'Price': [500000,400000,600000,450000,550000,500000,650000,700000]}\n",
    "    )\n",
    "grouped_data = df.groupby('City')\n",
    "\n",
    "total_sales_sum = grouped_data['Price'].sum()\n",
    "total_sales_max = grouped_data['Price'].max()\n",
    "total_sales_min = grouped_data['Price'].min()\n",
    "total_sales_mean = grouped_data['Price'].mean()\n",
    "total_sales_median = grouped_data['Price'].median()\n",
    "total_sales_count = grouped_data['Price'].count()\n",
    "print('Sum', total_sales_sum)\n",
    "print('Max', total_sales_max)\n",
    "print('Min', total_sales_min)\n",
    "print('Mean', total_sales_mean)\n",
    "print('Median', total_sales_median)\n",
    "print('Count', total_sales_count)\n",
    "\n",
    "print(total_sales)"
   ]
  },
  {
   "cell_type": "markdown",
   "metadata": {},
   "source": [
    "##### 5. Write a code to calculate the range (max - min) of prices for each city. You need to define a custom function for calculating range and use it in agg().\n",
    "\n",
    "Note: The agg function also allows you to use custom functions. This provides great flexibility in performing complex aggregations."
   ]
  },
  {
   "cell_type": "code",
   "execution_count": 15,
   "metadata": {},
   "outputs": [
    {
     "name": "stdout",
     "output_type": "stream",
     "text": [
      "Price range City\n",
      "London    500000\n",
      "Paris     400000\n",
      "Name: Price, dtype: int64 to City\n",
      "London    700000\n",
      "Paris     500000\n",
      "Name: Price, dtype: int64\n"
     ]
    }
   ],
   "source": [
    "import pandas as pd\n",
    "df = pd.DataFrame(\n",
    "    {'City': ['London','Paris','London','Paris','London','Paris','London','London'],\n",
    "     'Property_Type': ['House','Apartment','House','Apartment','House','Apartment','House','Apartment'],\n",
    "     'Price': [500000,400000,600000,450000,550000,500000,650000,700000]}\n",
    "    )\n",
    "grouped_data = df.groupby('City')\n",
    "\n",
    "\n",
    "\n",
    "def range_max ():\n",
    "    total_sales_max = grouped_data['Price'].max()\n",
    "    return total_sales_max\n",
    "def range_min ():\n",
    "    total_sales_min = grouped_data['Price'].min()\n",
    "    return total_sales_min\n",
    "\n",
    "\n",
    "print('Price range', total_sales_min, 'to', total_sales_max)\n"
   ]
  },
  {
   "cell_type": "markdown",
   "metadata": {},
   "source": [
    "### Task 3 - Data Visualisation"
   ]
  },
  {
   "cell_type": "markdown",
   "metadata": {},
   "source": [
    "##### 1. Given a small DataFrame ‘df_small’ with columns ‘Age’, ‘Income’, and ‘Spending_Score’, where all are numerical variables, write a code to calculate the correlation between these variables.\n",
    "\n",
    "```\n",
    "'Age': [25, 35, 45, 55, 65],\n",
    "'Income': [30000, 40000, 50000, 60000, 70000],\n",
    "'Spending_Score': [20, 40, 60, 80, 100]\n",
    "```\n",
    "\n",
    "Note: The corr function is used to compute pairwise correlation of columns. Correlation coefficients quantify the degree to which a relationship between two variables can be described by a number."
   ]
  },
  {
   "cell_type": "code",
   "execution_count": 17,
   "metadata": {},
   "outputs": [
    {
     "name": "stdout",
     "output_type": "stream",
     "text": [
      "                Age  Income  Spending_Score\n",
      "Age             1.0     1.0             1.0\n",
      "Income          1.0     1.0             1.0\n",
      "Spending_Score  1.0     1.0             1.0\n"
     ]
    }
   ],
   "source": [
    "import pandas as pd\n",
    "df =pd.DataFrame({\n",
    "    'Age': [25,35,45,55,65],\n",
    "    'Income': [30000,40000,50000,60000,70000],\n",
    "    'Spending_Score': [20,40,60,80,100]\n",
    "    }    \n",
    ")\n",
    "correlation = df.corr()\n",
    "print(df.corr())"
   ]
  },
  {
   "cell_type": "markdown",
   "metadata": {},
   "source": [
    "##### 2. Given a DataFrame ‘df_bar’ with columns ‘Product’ and ‘Sales’, where ‘Product’ is a categorical variable and ‘Sales’ is a numerical variable, write a code to create a bar plot showing the total sales for each product.\n",
    "\n",
    "```\n",
    "'Product': ['Apple', 'Banana', 'Cherry', 'Date', 'Elderberry'],\n",
    "'Sales': [1000, 2000, 1500, 1800, 1200]\n",
    "```\n",
    "\n",
    "Note: The plot function with kind=‘bar’ is used to create bar plots. Bar plots are useful for comparing quantities of different categories."
   ]
  },
  {
   "cell_type": "code",
   "execution_count": 18,
   "metadata": {},
   "outputs": [
    {
     "data": {
      "text/plain": [
       "<Axes: xlabel='Product'>"
      ]
     },
     "execution_count": 18,
     "metadata": {},
     "output_type": "execute_result"
    },
    {
     "data": {
      "image/png": "[encoded data removed]",
      "text/plain": [
       "<Figure size 640x480 with 1 Axes>"
      ]
     },
     "metadata": {},
     "output_type": "display_data"
    }
   ],
   "source": [
    "df_bar = pd.DataFrame({\n",
    "    'Product': ['Apple','Banana', 'Cherry', 'Date', 'Elderberry'],\n",
    "    'Sales': [1000, 2000, 1500, 1800, 1200]\n",
    "})\n",
    "\n",
    "df_bar.plot(x='Product', y='Sales', kind='bar')"
   ]
  },
  {
   "cell_type": "markdown",
   "metadata": {},
   "source": [
    "##### 3. Create a DataFrame with columns ‘Age’ and ‘Income’, where both are numerical variables, write a code to create a scatter plot showing the relationship between age and income.\n",
    "\n",
    "```\n",
    "    Remember data must be numeric type\n",
    "\n",
    "\n",
    "    # import random\n",
    "    import random\n",
    "    \n",
    "    'Age': [random.randint(20, 70) for _ in range(100)],\n",
    "    'Income': [random.randint(20000, 70000) for _ in range(100)]\n",
    "```\n",
    "\n",
    "Note: Scatter plots are useful for visualizing relationships between two numerical variables."
   ]
  },
  {
   "cell_type": "code",
   "execution_count": 19,
   "metadata": {},
   "outputs": [
    {
     "data": {
      "text/plain": [
       "<Axes: xlabel='Age', ylabel='Income'>"
      ]
     },
     "execution_count": 19,
     "metadata": {},
     "output_type": "execute_result"
    },
    {
     "data": {
      "image/png": "[encoded data removed]",
      "text/plain": [
       "<Figure size 640x480 with 1 Axes>"
      ]
     },
     "metadata": {},
     "output_type": "display_data"
    }
   ],
   "source": [
    "import random\n",
    "\n",
    "df_scatter = pd.DataFrame({\n",
    "    'Age': [random.randint(20, 70) for _ in range(100)],\n",
    "    'Income': [random.randint(20000, 70000) for _ in range(100)],\n",
    "    })\n",
    "\n",
    "df_scatter.plot(x='Age', y='Income', kind='scatter')"
   ]
  },
  {
   "cell_type": "markdown",
   "metadata": {},
   "source": [
    "##### 4. Given a DataFrame ‘df_hist’ with column ‘Scores’, which is a numerical variable representing scores of students in an exam, write a code to create a histogram showing the distribution of scores.\n",
    "\n",
    "```\n",
    "'Scores': [80, 85, 90, 95, 100, 97, 100]\n",
    "```"
   ]
  },
  {
   "cell_type": "code",
   "execution_count": 24,
   "metadata": {},
   "outputs": [
    {
     "ename": "TypeError",
     "evalue": "no numeric data to plot",
     "output_type": "error",
     "traceback": [
      "\u001b[1;31m---------------------------------------------------------------------------\u001b[0m",
      "\u001b[1;31mTypeError\u001b[0m                                 Traceback (most recent call last)",
      "Cell \u001b[1;32mIn[24], line 5\u001b[0m\n\u001b[0;32m      1\u001b[0m df_hist \u001b[38;5;241m=\u001b[39m pd\u001b[38;5;241m.\u001b[39mDataFrame({\n\u001b[0;32m      2\u001b[0m     \u001b[38;5;124m'\u001b[39m\u001b[38;5;124mScores\u001b[39m\u001b[38;5;124m'\u001b[39m: [\u001b[38;5;241m80\u001b[39m, \u001b[38;5;241m85\u001b[39m, \u001b[38;5;241m90\u001b[39m, \u001b[38;5;241m95\u001b[39m, \u001b[38;5;241m100\u001b[39m, \u001b[38;5;241m97\u001b[39m, \u001b[38;5;241m100\u001b[39m],\n\u001b[0;32m      3\u001b[0m     })\n\u001b[1;32m----> 5\u001b[0m \u001b[43mdf_hist\u001b[49m\u001b[38;5;241;43m.\u001b[39;49m\u001b[43mplot\u001b[49m\u001b[43m(\u001b[49m\u001b[38;5;124;43m'\u001b[39;49m\u001b[38;5;124;43mScores\u001b[39;49m\u001b[38;5;124;43m'\u001b[39;49m\u001b[43m)\u001b[49m\u001b[38;5;241m.\u001b[39mplot(kind\u001b[38;5;241m=\u001b[39m\u001b[38;5;124m'\u001b[39m\u001b[38;5;124mhist\u001b[39m\u001b[38;5;124m'\u001b[39m, bins\u001b[38;5;241m=\u001b[39m\u001b[38;5;241m10\u001b[39m)\n",
      "File \u001b[1;32mc:\\Users\\coxc1\\AppData\\Local\\Programs\\Python\\Python312\\Lib\\site-packages\\pandas\\plotting\\_core.py:1030\u001b[0m, in \u001b[0;36mPlotAccessor.__call__\u001b[1;34m(self, *args, **kwargs)\u001b[0m\n\u001b[0;32m   1027\u001b[0m             label_name \u001b[38;5;241m=\u001b[39m label_kw \u001b[38;5;129;01mor\u001b[39;00m data\u001b[38;5;241m.\u001b[39mcolumns\n\u001b[0;32m   1028\u001b[0m             data\u001b[38;5;241m.\u001b[39mcolumns \u001b[38;5;241m=\u001b[39m label_name\n\u001b[1;32m-> 1030\u001b[0m \u001b[38;5;28;01mreturn\u001b[39;00m \u001b[43mplot_backend\u001b[49m\u001b[38;5;241;43m.\u001b[39;49m\u001b[43mplot\u001b[49m\u001b[43m(\u001b[49m\u001b[43mdata\u001b[49m\u001b[43m,\u001b[49m\u001b[43m \u001b[49m\u001b[43mkind\u001b[49m\u001b[38;5;241;43m=\u001b[39;49m\u001b[43mkind\u001b[49m\u001b[43m,\u001b[49m\u001b[43m \u001b[49m\u001b[38;5;241;43m*\u001b[39;49m\u001b[38;5;241;43m*\u001b[39;49m\u001b[43mkwargs\u001b[49m\u001b[43m)\u001b[49m\n",
      "File \u001b[1;32mc:\\Users\\coxc1\\AppData\\Local\\Programs\\Python\\Python312\\Lib\\site-packages\\pandas\\plotting\\_matplotlib\\__init__.py:71\u001b[0m, in \u001b[0;36mplot\u001b[1;34m(data, kind, **kwargs)\u001b[0m\n\u001b[0;32m     69\u001b[0m         kwargs[\u001b[38;5;124m\"\u001b[39m\u001b[38;5;124max\u001b[39m\u001b[38;5;124m\"\u001b[39m] \u001b[38;5;241m=\u001b[39m \u001b[38;5;28mgetattr\u001b[39m(ax, \u001b[38;5;124m\"\u001b[39m\u001b[38;5;124mleft_ax\u001b[39m\u001b[38;5;124m\"\u001b[39m, ax)\n\u001b[0;32m     70\u001b[0m plot_obj \u001b[38;5;241m=\u001b[39m PLOT_CLASSES[kind](data, \u001b[38;5;241m*\u001b[39m\u001b[38;5;241m*\u001b[39mkwargs)\n\u001b[1;32m---> 71\u001b[0m \u001b[43mplot_obj\u001b[49m\u001b[38;5;241;43m.\u001b[39;49m\u001b[43mgenerate\u001b[49m\u001b[43m(\u001b[49m\u001b[43m)\u001b[49m\n\u001b[0;32m     72\u001b[0m plot_obj\u001b[38;5;241m.\u001b[39mdraw()\n\u001b[0;32m     73\u001b[0m \u001b[38;5;28;01mreturn\u001b[39;00m plot_obj\u001b[38;5;241m.\u001b[39mresult\n",
      "File \u001b[1;32mc:\\Users\\coxc1\\AppData\\Local\\Programs\\Python\\Python312\\Lib\\site-packages\\pandas\\plotting\\_matplotlib\\core.py:499\u001b[0m, in \u001b[0;36mMPLPlot.generate\u001b[1;34m(self)\u001b[0m\n\u001b[0;32m    497\u001b[0m \u001b[38;5;129m@final\u001b[39m\n\u001b[0;32m    498\u001b[0m \u001b[38;5;28;01mdef\u001b[39;00m \u001b[38;5;21mgenerate\u001b[39m(\u001b[38;5;28mself\u001b[39m) \u001b[38;5;241m-\u001b[39m\u001b[38;5;241m>\u001b[39m \u001b[38;5;28;01mNone\u001b[39;00m:\n\u001b[1;32m--> 499\u001b[0m     \u001b[38;5;28;43mself\u001b[39;49m\u001b[38;5;241;43m.\u001b[39;49m\u001b[43m_compute_plot_data\u001b[49m\u001b[43m(\u001b[49m\u001b[43m)\u001b[49m\n\u001b[0;32m    500\u001b[0m     fig \u001b[38;5;241m=\u001b[39m \u001b[38;5;28mself\u001b[39m\u001b[38;5;241m.\u001b[39mfig\n\u001b[0;32m    501\u001b[0m     \u001b[38;5;28mself\u001b[39m\u001b[38;5;241m.\u001b[39m_make_plot(fig)\n",
      "File \u001b[1;32mc:\\Users\\coxc1\\AppData\\Local\\Programs\\Python\\Python312\\Lib\\site-packages\\pandas\\plotting\\_matplotlib\\core.py:698\u001b[0m, in \u001b[0;36mMPLPlot._compute_plot_data\u001b[1;34m(self)\u001b[0m\n\u001b[0;32m    696\u001b[0m \u001b[38;5;66;03m# no non-numeric frames or series allowed\u001b[39;00m\n\u001b[0;32m    697\u001b[0m \u001b[38;5;28;01mif\u001b[39;00m is_empty:\n\u001b[1;32m--> 698\u001b[0m     \u001b[38;5;28;01mraise\u001b[39;00m \u001b[38;5;167;01mTypeError\u001b[39;00m(\u001b[38;5;124m\"\u001b[39m\u001b[38;5;124mno numeric data to plot\u001b[39m\u001b[38;5;124m\"\u001b[39m)\n\u001b[0;32m    700\u001b[0m \u001b[38;5;28mself\u001b[39m\u001b[38;5;241m.\u001b[39mdata \u001b[38;5;241m=\u001b[39m numeric_data\u001b[38;5;241m.\u001b[39mapply(\u001b[38;5;28mtype\u001b[39m(\u001b[38;5;28mself\u001b[39m)\u001b[38;5;241m.\u001b[39m_convert_to_ndarray)\n",
      "\u001b[1;31mTypeError\u001b[0m: no numeric data to plot"
     ]
    }
   ],
   "source": [
    "df_hist = pd.DataFrame({\n",
    "    'Scores': [80, 85, 90, 95, 100, 97, 100],\n",
    "    })\n",
    "\n",
    "df_hist.plot('Scores').plot(kind='hist', bins=10)"
   ]
  },
  {
   "cell_type": "markdown",
   "metadata": {},
   "source": [
    "##### 5. Expand the Scores DataFrame (at least 10 more random values) from the last question and recreate the histogram."
   ]
  },
  {
   "cell_type": "code",
   "execution_count": null,
   "metadata": {},
   "outputs": [],
   "source": []
  },
  {
   "cell_type": "markdown",
   "metadata": {},
   "source": [
    "### Task 4 - Time Series Data"
   ]
  },
  {
   "cell_type": "markdown",
   "metadata": {},
   "source": [
    "##### 1. Given a DataFrame ‘df_date’ with a column ‘Date’ containing dates in the format ‘YYYY-MM-DD’, write a code to convert the ‘Date’ column to datetime format.\n",
    "\n",
    "```\n",
    "'Date': ['2023-01-01', '2023-02-01', '2023-03-01', '2023-04-01', '2023-05-01', '2023-06-01'],\n",
    "'Value': [1, 2, 3, 4, 5, 6]\n",
    "```\n",
    "\n",
    "Note: The pd.to_datetime() function is used to convert the ‘Date’ column to datetime format. This is useful when you want to perform time series analysis on the data."
   ]
  },
  {
   "cell_type": "code",
   "execution_count": 26,
   "metadata": {},
   "outputs": [],
   "source": [
    "import pandas as pd\n",
    "data = {'Date': ['2023-01-01', '2023-02-01', '2023-03-01', '2023-04-01', '2023-05-01', '2023-06-01'],\n",
    "        'Value': [1,2,3,4,5,6]}\n",
    "df_Date = pd.DataFrame(data)\n",
    "\n",
    "df_Date['Date'] = pd.to_datetime(df_Date['Date'])"
   ]
  },
  {
   "cell_type": "markdown",
   "metadata": {},
   "source": [
    "##### 2. Now that you have converted the ‘Date’ column to datetime format, write a code to set this column as the index of the DataFrame.\n",
    "\n",
    "\n",
    "Note: Setting the ‘Date’ column as the index allows you to easily perform operations on specific dates."
   ]
  },
  {
   "cell_type": "code",
   "execution_count": 30,
   "metadata": {},
   "outputs": [],
   "source": [
    "df_Date = pd.DataFrame.set_index(keys='Date', self=df_Date)"
   ]
  },
  {
   "cell_type": "markdown",
   "metadata": {},
   "source": [
    "##### 3. Write a code to resample the DataFrame at a monthly frequency and calculate the mean of the ‘Value’ column for each month.\n",
    "\n",
    "Note: The resample() function is used to resample time-series data. The string ‘M’ is used for monthly frequency. Then use mean"
   ]
  },
  {
   "cell_type": "code",
   "execution_count": 38,
   "metadata": {},
   "outputs": [
    {
     "ename": "KeyError",
     "evalue": "'Date'",
     "output_type": "error",
     "traceback": [
      "\u001b[1;31m---------------------------------------------------------------------------\u001b[0m",
      "\u001b[1;31mKeyError\u001b[0m                                  Traceback (most recent call last)",
      "File \u001b[1;32mc:\\Users\\coxc1\\AppData\\Local\\Programs\\Python\\Python312\\Lib\\site-packages\\pandas\\core\\indexes\\base.py:3805\u001b[0m, in \u001b[0;36mIndex.get_loc\u001b[1;34m(self, key)\u001b[0m\n\u001b[0;32m   3804\u001b[0m \u001b[38;5;28;01mtry\u001b[39;00m:\n\u001b[1;32m-> 3805\u001b[0m     \u001b[38;5;28;01mreturn\u001b[39;00m \u001b[38;5;28;43mself\u001b[39;49m\u001b[38;5;241;43m.\u001b[39;49m\u001b[43m_engine\u001b[49m\u001b[38;5;241;43m.\u001b[39;49m\u001b[43mget_loc\u001b[49m\u001b[43m(\u001b[49m\u001b[43mcasted_key\u001b[49m\u001b[43m)\u001b[49m\n\u001b[0;32m   3806\u001b[0m \u001b[38;5;28;01mexcept\u001b[39;00m \u001b[38;5;167;01mKeyError\u001b[39;00m \u001b[38;5;28;01mas\u001b[39;00m err:\n",
      "File \u001b[1;32mindex.pyx:167\u001b[0m, in \u001b[0;36mpandas._libs.index.IndexEngine.get_loc\u001b[1;34m()\u001b[0m\n",
      "File \u001b[1;32mindex.pyx:196\u001b[0m, in \u001b[0;36mpandas._libs.index.IndexEngine.get_loc\u001b[1;34m()\u001b[0m\n",
      "File \u001b[1;32mpandas\\\\_libs\\\\hashtable_class_helper.pxi:7081\u001b[0m, in \u001b[0;36mpandas._libs.hashtable.PyObjectHashTable.get_item\u001b[1;34m()\u001b[0m\n",
      "File \u001b[1;32mpandas\\\\_libs\\\\hashtable_class_helper.pxi:7089\u001b[0m, in \u001b[0;36mpandas._libs.hashtable.PyObjectHashTable.get_item\u001b[1;34m()\u001b[0m\n",
      "\u001b[1;31mKeyError\u001b[0m: 'Date'",
      "\nThe above exception was the direct cause of the following exception:\n",
      "\u001b[1;31mKeyError\u001b[0m                                  Traceback (most recent call last)",
      "Cell \u001b[1;32mIn[38], line 7\u001b[0m\n\u001b[0;32m      5\u001b[0m df_Date[\u001b[38;5;124m'\u001b[39m\u001b[38;5;124mDate\u001b[39m\u001b[38;5;124m'\u001b[39m] \u001b[38;5;241m=\u001b[39m pd\u001b[38;5;241m.\u001b[39mto_datetime(df_Date[\u001b[38;5;124m'\u001b[39m\u001b[38;5;124mDate\u001b[39m\u001b[38;5;124m'\u001b[39m]) \n\u001b[0;32m      6\u001b[0m df_Date \u001b[38;5;241m=\u001b[39m pd\u001b[38;5;241m.\u001b[39mDataFrame\u001b[38;5;241m.\u001b[39mset_index(keys\u001b[38;5;241m=\u001b[39m\u001b[38;5;124m'\u001b[39m\u001b[38;5;124mDate\u001b[39m\u001b[38;5;124m'\u001b[39m, \u001b[38;5;28mself\u001b[39m\u001b[38;5;241m=\u001b[39mdf_Date)\n\u001b[1;32m----> 7\u001b[0m monthly \u001b[38;5;241m=\u001b[39m \u001b[43mdf_Date\u001b[49m\u001b[38;5;241;43m.\u001b[39;49m\u001b[43mresample\u001b[49m\u001b[43m(\u001b[49m\u001b[38;5;124;43m'\u001b[39;49m\u001b[38;5;124;43mM\u001b[39;49m\u001b[38;5;124;43m'\u001b[39;49m\u001b[43m,\u001b[49m\u001b[43m \u001b[49m\u001b[43mon\u001b[49m\u001b[38;5;241;43m=\u001b[39;49m\u001b[38;5;124;43m'\u001b[39;49m\u001b[38;5;124;43mDate\u001b[39;49m\u001b[38;5;124;43m'\u001b[39;49m\u001b[43m)\u001b[49m\n",
      "File \u001b[1;32mc:\\Users\\coxc1\\AppData\\Local\\Programs\\Python\\Python312\\Lib\\site-packages\\pandas\\core\\generic.py:9768\u001b[0m, in \u001b[0;36mNDFrame.resample\u001b[1;34m(self, rule, axis, closed, label, convention, kind, on, level, origin, offset, group_keys)\u001b[0m\n\u001b[0;32m   9765\u001b[0m \u001b[38;5;28;01melse\u001b[39;00m:\n\u001b[0;32m   9766\u001b[0m     convention \u001b[38;5;241m=\u001b[39m \u001b[38;5;124m\"\u001b[39m\u001b[38;5;124mstart\u001b[39m\u001b[38;5;124m\"\u001b[39m\n\u001b[1;32m-> 9768\u001b[0m \u001b[38;5;28;01mreturn\u001b[39;00m \u001b[43mget_resampler\u001b[49m\u001b[43m(\u001b[49m\n\u001b[0;32m   9769\u001b[0m \u001b[43m    \u001b[49m\u001b[43mcast\u001b[49m\u001b[43m(\u001b[49m\u001b[38;5;124;43m\"\u001b[39;49m\u001b[38;5;124;43mSeries | DataFrame\u001b[39;49m\u001b[38;5;124;43m\"\u001b[39;49m\u001b[43m,\u001b[49m\u001b[43m \u001b[49m\u001b[38;5;28;43mself\u001b[39;49m\u001b[43m)\u001b[49m\u001b[43m,\u001b[49m\n\u001b[0;32m   9770\u001b[0m \u001b[43m    \u001b[49m\u001b[43mfreq\u001b[49m\u001b[38;5;241;43m=\u001b[39;49m\u001b[43mrule\u001b[49m\u001b[43m,\u001b[49m\n\u001b[0;32m   9771\u001b[0m \u001b[43m    \u001b[49m\u001b[43mlabel\u001b[49m\u001b[38;5;241;43m=\u001b[39;49m\u001b[43mlabel\u001b[49m\u001b[43m,\u001b[49m\n\u001b[0;32m   9772\u001b[0m \u001b[43m    \u001b[49m\u001b[43mclosed\u001b[49m\u001b[38;5;241;43m=\u001b[39;49m\u001b[43mclosed\u001b[49m\u001b[43m,\u001b[49m\n\u001b[0;32m   9773\u001b[0m \u001b[43m    \u001b[49m\u001b[43maxis\u001b[49m\u001b[38;5;241;43m=\u001b[39;49m\u001b[43maxis\u001b[49m\u001b[43m,\u001b[49m\n\u001b[0;32m   9774\u001b[0m \u001b[43m    \u001b[49m\u001b[43mkind\u001b[49m\u001b[38;5;241;43m=\u001b[39;49m\u001b[43mkind\u001b[49m\u001b[43m,\u001b[49m\n\u001b[0;32m   9775\u001b[0m \u001b[43m    \u001b[49m\u001b[43mconvention\u001b[49m\u001b[38;5;241;43m=\u001b[39;49m\u001b[43mconvention\u001b[49m\u001b[43m,\u001b[49m\n\u001b[0;32m   9776\u001b[0m \u001b[43m    \u001b[49m\u001b[43mkey\u001b[49m\u001b[38;5;241;43m=\u001b[39;49m\u001b[43mon\u001b[49m\u001b[43m,\u001b[49m\n\u001b[0;32m   9777\u001b[0m \u001b[43m    \u001b[49m\u001b[43mlevel\u001b[49m\u001b[38;5;241;43m=\u001b[39;49m\u001b[43mlevel\u001b[49m\u001b[43m,\u001b[49m\n\u001b[0;32m   9778\u001b[0m \u001b[43m    \u001b[49m\u001b[43morigin\u001b[49m\u001b[38;5;241;43m=\u001b[39;49m\u001b[43morigin\u001b[49m\u001b[43m,\u001b[49m\n\u001b[0;32m   9779\u001b[0m \u001b[43m    \u001b[49m\u001b[43moffset\u001b[49m\u001b[38;5;241;43m=\u001b[39;49m\u001b[43moffset\u001b[49m\u001b[43m,\u001b[49m\n\u001b[0;32m   9780\u001b[0m \u001b[43m    \u001b[49m\u001b[43mgroup_keys\u001b[49m\u001b[38;5;241;43m=\u001b[39;49m\u001b[43mgroup_keys\u001b[49m\u001b[43m,\u001b[49m\n\u001b[0;32m   9781\u001b[0m \u001b[43m\u001b[49m\u001b[43m)\u001b[49m\n",
      "File \u001b[1;32mc:\\Users\\coxc1\\AppData\\Local\\Programs\\Python\\Python312\\Lib\\site-packages\\pandas\\core\\resample.py:2049\u001b[0m, in \u001b[0;36mget_resampler\u001b[1;34m(obj, kind, **kwds)\u001b[0m\n\u001b[0;32m   2045\u001b[0m \u001b[38;5;28;01mdef\u001b[39;00m \u001b[38;5;21mget_resampler\u001b[39m(obj: Series \u001b[38;5;241m|\u001b[39m DataFrame, kind\u001b[38;5;241m=\u001b[39m\u001b[38;5;28;01mNone\u001b[39;00m, \u001b[38;5;241m*\u001b[39m\u001b[38;5;241m*\u001b[39mkwds) \u001b[38;5;241m-\u001b[39m\u001b[38;5;241m>\u001b[39m Resampler:\n\u001b[0;32m   2046\u001b[0m \u001b[38;5;250m    \u001b[39m\u001b[38;5;124;03m\"\"\"\u001b[39;00m\n\u001b[0;32m   2047\u001b[0m \u001b[38;5;124;03m    Create a TimeGrouper and return our resampler.\u001b[39;00m\n\u001b[0;32m   2048\u001b[0m \u001b[38;5;124;03m    \"\"\"\u001b[39;00m\n\u001b[1;32m-> 2049\u001b[0m     tg \u001b[38;5;241m=\u001b[39m \u001b[43mTimeGrouper\u001b[49m\u001b[43m(\u001b[49m\u001b[43mobj\u001b[49m\u001b[43m,\u001b[49m\u001b[43m \u001b[49m\u001b[38;5;241;43m*\u001b[39;49m\u001b[38;5;241;43m*\u001b[39;49m\u001b[43mkwds\u001b[49m\u001b[43m)\u001b[49m  \u001b[38;5;66;03m# type: ignore[arg-type]\u001b[39;00m\n\u001b[0;32m   2050\u001b[0m     \u001b[38;5;28;01mreturn\u001b[39;00m tg\u001b[38;5;241m.\u001b[39m_get_resampler(obj, kind\u001b[38;5;241m=\u001b[39mkind)\n",
      "File \u001b[1;32mc:\\Users\\coxc1\\AppData\\Local\\Programs\\Python\\Python312\\Lib\\site-packages\\pandas\\core\\resample.py:2138\u001b[0m, in \u001b[0;36mTimeGrouper.__init__\u001b[1;34m(self, obj, freq, key, closed, label, how, axis, fill_method, limit, kind, convention, origin, offset, group_keys, **kwargs)\u001b[0m\n\u001b[0;32m   2128\u001b[0m \u001b[38;5;28;01mif\u001b[39;00m convention \u001b[38;5;129;01mnot\u001b[39;00m \u001b[38;5;129;01min\u001b[39;00m {\u001b[38;5;28;01mNone\u001b[39;00m, \u001b[38;5;124m\"\u001b[39m\u001b[38;5;124mstart\u001b[39m\u001b[38;5;124m\"\u001b[39m, \u001b[38;5;124m\"\u001b[39m\u001b[38;5;124mend\u001b[39m\u001b[38;5;124m\"\u001b[39m, \u001b[38;5;124m\"\u001b[39m\u001b[38;5;124me\u001b[39m\u001b[38;5;124m\"\u001b[39m, \u001b[38;5;124m\"\u001b[39m\u001b[38;5;124ms\u001b[39m\u001b[38;5;124m\"\u001b[39m}:\n\u001b[0;32m   2129\u001b[0m     \u001b[38;5;28;01mraise\u001b[39;00m \u001b[38;5;167;01mValueError\u001b[39;00m(\u001b[38;5;124mf\u001b[39m\u001b[38;5;124m\"\u001b[39m\u001b[38;5;124mUnsupported value \u001b[39m\u001b[38;5;132;01m{\u001b[39;00mconvention\u001b[38;5;132;01m}\u001b[39;00m\u001b[38;5;124m for `convention`\u001b[39m\u001b[38;5;124m\"\u001b[39m)\n\u001b[0;32m   2131\u001b[0m \u001b[38;5;28;01mif\u001b[39;00m (\n\u001b[0;32m   2132\u001b[0m     key \u001b[38;5;129;01mis\u001b[39;00m \u001b[38;5;28;01mNone\u001b[39;00m\n\u001b[0;32m   2133\u001b[0m     \u001b[38;5;129;01mand\u001b[39;00m obj \u001b[38;5;129;01mis\u001b[39;00m \u001b[38;5;129;01mnot\u001b[39;00m \u001b[38;5;28;01mNone\u001b[39;00m\n\u001b[0;32m   2134\u001b[0m     \u001b[38;5;129;01mand\u001b[39;00m \u001b[38;5;28misinstance\u001b[39m(obj\u001b[38;5;241m.\u001b[39mindex, PeriodIndex)  \u001b[38;5;66;03m# type: ignore[attr-defined]\u001b[39;00m\n\u001b[0;32m   2135\u001b[0m     \u001b[38;5;129;01mor\u001b[39;00m (\n\u001b[0;32m   2136\u001b[0m         key \u001b[38;5;129;01mis\u001b[39;00m \u001b[38;5;129;01mnot\u001b[39;00m \u001b[38;5;28;01mNone\u001b[39;00m\n\u001b[0;32m   2137\u001b[0m         \u001b[38;5;129;01mand\u001b[39;00m obj \u001b[38;5;129;01mis\u001b[39;00m \u001b[38;5;129;01mnot\u001b[39;00m \u001b[38;5;28;01mNone\u001b[39;00m\n\u001b[1;32m-> 2138\u001b[0m         \u001b[38;5;129;01mand\u001b[39;00m \u001b[38;5;28mgetattr\u001b[39m(\u001b[43mobj\u001b[49m\u001b[43m[\u001b[49m\u001b[43mkey\u001b[49m\u001b[43m]\u001b[49m, \u001b[38;5;124m\"\u001b[39m\u001b[38;5;124mdtype\u001b[39m\u001b[38;5;124m\"\u001b[39m, \u001b[38;5;28;01mNone\u001b[39;00m) \u001b[38;5;241m==\u001b[39m \u001b[38;5;124m\"\u001b[39m\u001b[38;5;124mperiod\u001b[39m\u001b[38;5;124m\"\u001b[39m  \u001b[38;5;66;03m# type: ignore[index]\u001b[39;00m\n\u001b[0;32m   2139\u001b[0m     )\n\u001b[0;32m   2140\u001b[0m ):\n\u001b[0;32m   2141\u001b[0m     freq \u001b[38;5;241m=\u001b[39m to_offset(freq, is_period\u001b[38;5;241m=\u001b[39m\u001b[38;5;28;01mTrue\u001b[39;00m)\n\u001b[0;32m   2142\u001b[0m \u001b[38;5;28;01melse\u001b[39;00m:\n",
      "File \u001b[1;32mc:\\Users\\coxc1\\AppData\\Local\\Programs\\Python\\Python312\\Lib\\site-packages\\pandas\\core\\frame.py:4090\u001b[0m, in \u001b[0;36mDataFrame.__getitem__\u001b[1;34m(self, key)\u001b[0m\n\u001b[0;32m   4088\u001b[0m \u001b[38;5;28;01mif\u001b[39;00m \u001b[38;5;28mself\u001b[39m\u001b[38;5;241m.\u001b[39mcolumns\u001b[38;5;241m.\u001b[39mnlevels \u001b[38;5;241m>\u001b[39m \u001b[38;5;241m1\u001b[39m:\n\u001b[0;32m   4089\u001b[0m     \u001b[38;5;28;01mreturn\u001b[39;00m \u001b[38;5;28mself\u001b[39m\u001b[38;5;241m.\u001b[39m_getitem_multilevel(key)\n\u001b[1;32m-> 4090\u001b[0m indexer \u001b[38;5;241m=\u001b[39m \u001b[38;5;28;43mself\u001b[39;49m\u001b[38;5;241;43m.\u001b[39;49m\u001b[43mcolumns\u001b[49m\u001b[38;5;241;43m.\u001b[39;49m\u001b[43mget_loc\u001b[49m\u001b[43m(\u001b[49m\u001b[43mkey\u001b[49m\u001b[43m)\u001b[49m\n\u001b[0;32m   4091\u001b[0m \u001b[38;5;28;01mif\u001b[39;00m is_integer(indexer):\n\u001b[0;32m   4092\u001b[0m     indexer \u001b[38;5;241m=\u001b[39m [indexer]\n",
      "File \u001b[1;32mc:\\Users\\coxc1\\AppData\\Local\\Programs\\Python\\Python312\\Lib\\site-packages\\pandas\\core\\indexes\\base.py:3812\u001b[0m, in \u001b[0;36mIndex.get_loc\u001b[1;34m(self, key)\u001b[0m\n\u001b[0;32m   3807\u001b[0m     \u001b[38;5;28;01mif\u001b[39;00m \u001b[38;5;28misinstance\u001b[39m(casted_key, \u001b[38;5;28mslice\u001b[39m) \u001b[38;5;129;01mor\u001b[39;00m (\n\u001b[0;32m   3808\u001b[0m         \u001b[38;5;28misinstance\u001b[39m(casted_key, abc\u001b[38;5;241m.\u001b[39mIterable)\n\u001b[0;32m   3809\u001b[0m         \u001b[38;5;129;01mand\u001b[39;00m \u001b[38;5;28many\u001b[39m(\u001b[38;5;28misinstance\u001b[39m(x, \u001b[38;5;28mslice\u001b[39m) \u001b[38;5;28;01mfor\u001b[39;00m x \u001b[38;5;129;01min\u001b[39;00m casted_key)\n\u001b[0;32m   3810\u001b[0m     ):\n\u001b[0;32m   3811\u001b[0m         \u001b[38;5;28;01mraise\u001b[39;00m InvalidIndexError(key)\n\u001b[1;32m-> 3812\u001b[0m     \u001b[38;5;28;01mraise\u001b[39;00m \u001b[38;5;167;01mKeyError\u001b[39;00m(key) \u001b[38;5;28;01mfrom\u001b[39;00m \u001b[38;5;21;01merr\u001b[39;00m\n\u001b[0;32m   3813\u001b[0m \u001b[38;5;28;01mexcept\u001b[39;00m \u001b[38;5;167;01mTypeError\u001b[39;00m:\n\u001b[0;32m   3814\u001b[0m     \u001b[38;5;66;03m# If we have a listlike key, _check_indexing_error will raise\u001b[39;00m\n\u001b[0;32m   3815\u001b[0m     \u001b[38;5;66;03m#  InvalidIndexError. Otherwise we fall through and re-raise\u001b[39;00m\n\u001b[0;32m   3816\u001b[0m     \u001b[38;5;66;03m#  the TypeError.\u001b[39;00m\n\u001b[0;32m   3817\u001b[0m     \u001b[38;5;28mself\u001b[39m\u001b[38;5;241m.\u001b[39m_check_indexing_error(key)\n",
      "\u001b[1;31mKeyError\u001b[0m: 'Date'"
     ]
    }
   ],
   "source": [
    "data = {'Date': ['2023-01-01', '2023-02-01', '2023-03-01', '2023-04-01', '2023-05-01', '2023-06-01'],\n",
    "        'Value': [1,2,3,4,5,6]}\n",
    "df_Date = pd.DataFrame(data)\n",
    "\n",
    "df_Date['Date'] = pd.to_datetime(df_Date['Date']) \n",
    "df_Date = pd.DataFrame.set_index(keys='Date', self=df_Date)\n",
    "monthly = df_Date.resample('M', on='Date')"
   ]
  },
  {
   "cell_type": "markdown",
   "metadata": {},
   "source": [
    "##### 4. Given a DataFrame ‘df1’ with columns ‘Date’, ‘Temperature’, ‘Humidity’, ‘WindSpeed’, and ‘Rainfall’, where ‘Date’ is in the format ‘YYYY-MM-DD’ and the rest are numerical variables, write a code to resample the DataFrame at a monthly frequency and calculate the mean of all columns for each month.\n",
    "\n",
    "```\n",
    "'Date': pd.date_range(start='2023-01-01', periods=6),\n",
    "'Temperature': [20, 21, 19, 22, 20, 21],\n",
    "'Humidity': [30, 32, 31, 29, 30, 31],\n",
    "'WindSpeed': [10, 11, 10, 12, 11, 10],\n",
    "'Rainfall': [0, 0.2, 0.1, 0.3, 0.2, 0]\n",
    "```\n",
    "\n",
    "Note: The resample() function is used to resample time-series data. The string ‘M’ is used for monthly frequency. The mean() function is then used to calculate the mean of all columns for each month."
   ]
  },
  {
   "cell_type": "code",
   "execution_count": 40,
   "metadata": {},
   "outputs": [
    {
     "name": "stdout",
     "output_type": "stream",
     "text": [
      "Temperature  Humidity  WindSpeed  Rainfall\n",
      "19           31        10         0.1        2023-01-03\n",
      "20           30        10         0.0        2023-01-01\n",
      "                       11         0.2        2023-01-05\n",
      "21           31        10         0.0        2023-01-06\n",
      "             32        11         0.2        2023-01-02\n",
      "22           29        12         0.3        2023-01-04\n",
      "Name: Date, dtype: datetime64[ns]\n"
     ]
    }
   ],
   "source": [
    "data = ({'Date': pd.date_range(start='2023-01-01', periods=6),\n",
    "        'Temperature': [20,21,19,22,20,21],\n",
    "        'Humidity': [30,32,31,29,30,31],\n",
    "        'WindSpeed': [10,11,10,12,11,10],\n",
    "        'Rainfall': [0,0.2,0.1,0.3,0.2,0]}\n",
    ")\n",
    "\n",
    "data_frequency = pd.DataFrame(data)\n",
    "monthly = data_frequency.resample('ME', on='Date')\n",
    "\n",
    "grouped_data = data_frequency.groupby(['Temperature','Humidity', 'WindSpeed', 'Rainfall'])\n",
    "\n",
    "mean = grouped_data['Date'].mean()\n",
    "\n",
    "print(mean)\n",
    "\n",
    "\n"
   ]
  },
  {
   "cell_type": "markdown",
   "metadata": {},
   "source": [
    "#### 5. Given a DataFrame ‘df1’ with columns ‘Date’, ‘Temperature’, ‘Humidity’, ‘WindSpeed’, and ‘Rainfall’, where ‘Date’ is in the format ‘YYYY-MM-DD’ and the rest are numerical variables, write a code to calculate the rolling mean of ‘Temperature’ with a window size of 3.\n",
    "\n",
    "```\n",
    "'Date': pd.date_range(start='2023-01-01', periods=6),\n",
    "'Temperature': [20, 21, 19, 22, 20, 21],\n",
    "'Humidity': [30, 32, 31, 29, 30, 31],\n",
    "'WindSpeed': [10, 11, 10, 12, 11, 10],\n",
    "'Rainfall': [0, 0.2, 0.1, 0.3, 0.2, 0]\n",
    "```\n",
    "\n",
    "Note: The rolling() function is used to calculate the rolling mean of a time series. The window size determines the number of observations used for calculating the mean."
   ]
  },
  {
   "cell_type": "code",
   "execution_count": 9,
   "metadata": {},
   "outputs": [
    {
     "data": {
      "text/html": [
       "<div>\n",
       "<style scoped>\n",
       "    .dataframe tbody tr th:only-of-type {\n",
       "        vertical-align: middle;\n",
       "    }\n",
       "\n",
       "    .dataframe tbody tr th {\n",
       "        vertical-align: top;\n",
       "    }\n",
       "\n",
       "    .dataframe thead th {\n",
       "        text-align: right;\n",
       "    }\n",
       "</style>\n",
       "<table border=\"1\" class=\"dataframe\">\n",
       "  <thead>\n",
       "    <tr style=\"text-align: right;\">\n",
       "      <th></th>\n",
       "      <th>Date</th>\n",
       "      <th>Temperature</th>\n",
       "      <th>Humidity</th>\n",
       "      <th>WindSpeed</th>\n",
       "      <th>Rainfall</th>\n",
       "      <th>Rolling_Mean</th>\n",
       "    </tr>\n",
       "  </thead>\n",
       "  <tbody>\n",
       "    <tr>\n",
       "      <th>0</th>\n",
       "      <td>2023-01-01</td>\n",
       "      <td>20</td>\n",
       "      <td>30</td>\n",
       "      <td>10</td>\n",
       "      <td>0.0</td>\n",
       "      <td>NaN</td>\n",
       "    </tr>\n",
       "    <tr>\n",
       "      <th>1</th>\n",
       "      <td>2023-01-02</td>\n",
       "      <td>21</td>\n",
       "      <td>32</td>\n",
       "      <td>11</td>\n",
       "      <td>0.2</td>\n",
       "      <td>NaN</td>\n",
       "    </tr>\n",
       "    <tr>\n",
       "      <th>2</th>\n",
       "      <td>2023-01-03</td>\n",
       "      <td>19</td>\n",
       "      <td>31</td>\n",
       "      <td>10</td>\n",
       "      <td>0.1</td>\n",
       "      <td>20.000000</td>\n",
       "    </tr>\n",
       "    <tr>\n",
       "      <th>3</th>\n",
       "      <td>2023-01-04</td>\n",
       "      <td>22</td>\n",
       "      <td>29</td>\n",
       "      <td>12</td>\n",
       "      <td>0.3</td>\n",
       "      <td>20.666667</td>\n",
       "    </tr>\n",
       "    <tr>\n",
       "      <th>4</th>\n",
       "      <td>2023-01-05</td>\n",
       "      <td>20</td>\n",
       "      <td>30</td>\n",
       "      <td>11</td>\n",
       "      <td>0.2</td>\n",
       "      <td>20.333333</td>\n",
       "    </tr>\n",
       "    <tr>\n",
       "      <th>5</th>\n",
       "      <td>2023-01-06</td>\n",
       "      <td>21</td>\n",
       "      <td>31</td>\n",
       "      <td>10</td>\n",
       "      <td>0.0</td>\n",
       "      <td>21.000000</td>\n",
       "    </tr>\n",
       "  </tbody>\n",
       "</table>\n",
       "</div>"
      ],
      "text/plain": [
       "        Date  Temperature  Humidity  WindSpeed  Rainfall  Rolling_Mean\n",
       "0 2023-01-01           20        30         10       0.0           NaN\n",
       "1 2023-01-02           21        32         11       0.2           NaN\n",
       "2 2023-01-03           19        31         10       0.1     20.000000\n",
       "3 2023-01-04           22        29         12       0.3     20.666667\n",
       "4 2023-01-05           20        30         11       0.2     20.333333\n",
       "5 2023-01-06           21        31         10       0.0     21.000000"
      ]
     },
     "execution_count": 9,
     "metadata": {},
     "output_type": "execute_result"
    }
   ],
   "source": [
    "data = ({'Date': pd.date_range(start='2023-01-01', periods=6),\n",
    "        'Temperature': [20,21,19,22,20,21],\n",
    "        'Humidity': [30,32,31,29,30,31],\n",
    "        'WindSpeed': [10,11,10,12,11,10],\n",
    "        'Rainfall': [0,0.2,0.1,0.3,0.2,0]}\n",
    ")\n",
    "\n",
    "data_frequency = pd.DataFrame(data)\n",
    "data_frequency['Rolling_Mean'] = data_frequency['Temperature'].rolling(window=3).mean()\n",
    "data_frequency"
   ]
  },
  {
   "cell_type": "markdown",
   "metadata": {},
   "source": [
    "##### 6. Now consider another DataFrame ‘df2’ with the same columns but different data. Modify your code to calculate the rolling standard deviation of ‘Humidity’ with a window size of 2.\n",
    "\n",
    "function = .std()"
   ]
  },
  {
   "cell_type": "code",
   "execution_count": 12,
   "metadata": {},
   "outputs": [
    {
     "data": {
      "text/html": [
       "<div>\n",
       "<style scoped>\n",
       "    .dataframe tbody tr th:only-of-type {\n",
       "        vertical-align: middle;\n",
       "    }\n",
       "\n",
       "    .dataframe tbody tr th {\n",
       "        vertical-align: top;\n",
       "    }\n",
       "\n",
       "    .dataframe thead th {\n",
       "        text-align: right;\n",
       "    }\n",
       "</style>\n",
       "<table border=\"1\" class=\"dataframe\">\n",
       "  <thead>\n",
       "    <tr style=\"text-align: right;\">\n",
       "      <th></th>\n",
       "      <th>Date</th>\n",
       "      <th>Temperature</th>\n",
       "      <th>Humidity</th>\n",
       "      <th>WindSpeed</th>\n",
       "      <th>Rainfall</th>\n",
       "      <th>Rolling_Mean</th>\n",
       "    </tr>\n",
       "  </thead>\n",
       "  <tbody>\n",
       "    <tr>\n",
       "      <th>0</th>\n",
       "      <td>2023-01-01</td>\n",
       "      <td>20</td>\n",
       "      <td>30</td>\n",
       "      <td>10</td>\n",
       "      <td>0.0</td>\n",
       "      <td>NaN</td>\n",
       "    </tr>\n",
       "    <tr>\n",
       "      <th>1</th>\n",
       "      <td>2023-01-02</td>\n",
       "      <td>21</td>\n",
       "      <td>32</td>\n",
       "      <td>11</td>\n",
       "      <td>0.2</td>\n",
       "      <td>1.414214</td>\n",
       "    </tr>\n",
       "    <tr>\n",
       "      <th>2</th>\n",
       "      <td>2023-01-03</td>\n",
       "      <td>19</td>\n",
       "      <td>31</td>\n",
       "      <td>10</td>\n",
       "      <td>0.1</td>\n",
       "      <td>0.707107</td>\n",
       "    </tr>\n",
       "    <tr>\n",
       "      <th>3</th>\n",
       "      <td>2023-01-04</td>\n",
       "      <td>22</td>\n",
       "      <td>29</td>\n",
       "      <td>12</td>\n",
       "      <td>0.3</td>\n",
       "      <td>1.414214</td>\n",
       "    </tr>\n",
       "    <tr>\n",
       "      <th>4</th>\n",
       "      <td>2023-01-05</td>\n",
       "      <td>20</td>\n",
       "      <td>30</td>\n",
       "      <td>11</td>\n",
       "      <td>0.2</td>\n",
       "      <td>0.707107</td>\n",
       "    </tr>\n",
       "    <tr>\n",
       "      <th>5</th>\n",
       "      <td>2023-01-06</td>\n",
       "      <td>21</td>\n",
       "      <td>31</td>\n",
       "      <td>10</td>\n",
       "      <td>0.0</td>\n",
       "      <td>0.707107</td>\n",
       "    </tr>\n",
       "  </tbody>\n",
       "</table>\n",
       "</div>"
      ],
      "text/plain": [
       "        Date  Temperature  Humidity  WindSpeed  Rainfall  Rolling_Mean\n",
       "0 2023-01-01           20        30         10       0.0           NaN\n",
       "1 2023-01-02           21        32         11       0.2      1.414214\n",
       "2 2023-01-03           19        31         10       0.1      0.707107\n",
       "3 2023-01-04           22        29         12       0.3      1.414214\n",
       "4 2023-01-05           20        30         11       0.2      0.707107\n",
       "5 2023-01-06           21        31         10       0.0      0.707107"
      ]
     },
     "execution_count": 12,
     "metadata": {},
     "output_type": "execute_result"
    }
   ],
   "source": [
    "data = ({'Date': pd.date_range(start='2023-01-01', periods=6),\n",
    "        'Temperature': [26,27,29,24,21,23],\n",
    "        'Humidity': [40,42,29,28,33,35],\n",
    "        'WindSpeed': [10,11,10,12,11,10],\n",
    "        'Rainfall': [0,0.2,0.1,0.3,0.2,0]}\n",
    ")\n",
    "\n",
    "df2 = pd.DataFrame(data)\n",
    "df2['Rolling_Mean'] = df2['Humidity'].rolling(window=2).std()\n",
    "df2"
   ]
  },
  {
   "cell_type": "markdown",
   "metadata": {},
   "source": [
    "### Task 5 - Categorial Data"
   ]
  },
  {
   "cell_type": "markdown",
   "metadata": {},
   "source": [
    "##### 1. Given a DataFrame ‘df1’ with a column ‘Size’ containing ordinal data (‘Small’, ‘Medium’, ‘Large’), write a code to sort the DataFrame based on the ‘Size’ column in ascending order.\n",
    "\n",
    "```\n",
    "'Product': ['Product A', 'Product B', 'Product C', 'Product D', 'Product E'],\n",
    "'Size': ['Medium', 'Small', 'Large', 'Small', 'Medium']\n",
    "```\n",
    "\n",
    "Note: The pd.Categorical() function is used to convert the ‘Size’ column to a categorical type with ordered categories. The sort_values() function is then used to sort the DataFrame by the ‘Size’ column."
   ]
  },
  {
   "cell_type": "code",
   "execution_count": 3,
   "metadata": {},
   "outputs": [
    {
     "name": "stdout",
     "output_type": "stream",
     "text": [
      "['Small', 'Medium', 'Large']\n"
     ]
    },
    {
     "data": {
      "text/html": [
       "<div>\n",
       "<style scoped>\n",
       "    .dataframe tbody tr th:only-of-type {\n",
       "        vertical-align: middle;\n",
       "    }\n",
       "\n",
       "    .dataframe tbody tr th {\n",
       "        vertical-align: top;\n",
       "    }\n",
       "\n",
       "    .dataframe thead th {\n",
       "        text-align: right;\n",
       "    }\n",
       "</style>\n",
       "<table border=\"1\" class=\"dataframe\">\n",
       "  <thead>\n",
       "    <tr style=\"text-align: right;\">\n",
       "      <th></th>\n",
       "      <th>Product</th>\n",
       "      <th>Size</th>\n",
       "    </tr>\n",
       "  </thead>\n",
       "  <tbody>\n",
       "    <tr>\n",
       "      <th>1</th>\n",
       "      <td>Product B</td>\n",
       "      <td>Small</td>\n",
       "    </tr>\n",
       "    <tr>\n",
       "      <th>3</th>\n",
       "      <td>Product D</td>\n",
       "      <td>Small</td>\n",
       "    </tr>\n",
       "    <tr>\n",
       "      <th>0</th>\n",
       "      <td>Product A</td>\n",
       "      <td>Medium</td>\n",
       "    </tr>\n",
       "    <tr>\n",
       "      <th>4</th>\n",
       "      <td>Product E</td>\n",
       "      <td>Medium</td>\n",
       "    </tr>\n",
       "    <tr>\n",
       "      <th>2</th>\n",
       "      <td>Product C</td>\n",
       "      <td>Large</td>\n",
       "    </tr>\n",
       "  </tbody>\n",
       "</table>\n",
       "</div>"
      ],
      "text/plain": [
       "     Product    Size\n",
       "1  Product B   Small\n",
       "3  Product D   Small\n",
       "0  Product A  Medium\n",
       "4  Product E  Medium\n",
       "2  Product C   Large"
      ]
     },
     "execution_count": 3,
     "metadata": {},
     "output_type": "execute_result"
    }
   ],
   "source": [
    "import pandas as pd\n",
    "\n",
    "data = {\n",
    "    'Product': ['Product A', 'Product B', 'Product C', 'Product D', 'Product E'],\n",
    "    'Size': ['Medium', 'Small', 'Large', 'Small', 'Medium']\n",
    "}\n",
    "\n",
    "df1 = pd.DataFrame(data)\n",
    "\n",
    "ordinal_order = ['Small', 'Medium', 'Large']\n",
    "\n",
    "df1['Size'] = pd.Categorical(df1['Size'], categories=['Small', 'Medium', 'Large'], ordered=True)\n",
    "print(ordinal_order)\n",
    "df1.sort_values(by='Size')\n",
    "\n",
    "\n"
   ]
  },
  {
   "cell_type": "markdown",
   "metadata": {},
   "source": [
    "##### 2. Now consider another DataFrame ‘df2’ with the same columns but different data. Modify your code to sort this DataFrame based on the ‘Size’ column in descending order.\n",
    "\n",
    "```\n",
    "'Product': ['Product F', 'Product G', 'Product H', 'Product I', 'Product J'],\n",
    "'Size': ['Large', 'Medium', 'Small', 'Large', 'Medium']\n",
    "```\n",
    "\n",
    "Note: The sort_values() function with ascending=False is used to sort the DataFrame by the ‘Size’ column in descending order."
   ]
  },
  {
   "cell_type": "code",
   "execution_count": 3,
   "metadata": {},
   "outputs": [
    {
     "name": "stdout",
     "output_type": "stream",
     "text": [
      "['Small', 'Medium', 'Large']\n"
     ]
    },
    {
     "data": {
      "text/html": [
       "<div>\n",
       "<style scoped>\n",
       "    .dataframe tbody tr th:only-of-type {\n",
       "        vertical-align: middle;\n",
       "    }\n",
       "\n",
       "    .dataframe tbody tr th {\n",
       "        vertical-align: top;\n",
       "    }\n",
       "\n",
       "    .dataframe thead th {\n",
       "        text-align: right;\n",
       "    }\n",
       "</style>\n",
       "<table border=\"1\" class=\"dataframe\">\n",
       "  <thead>\n",
       "    <tr style=\"text-align: right;\">\n",
       "      <th></th>\n",
       "      <th>Product</th>\n",
       "      <th>Size</th>\n",
       "    </tr>\n",
       "  </thead>\n",
       "  <tbody>\n",
       "    <tr>\n",
       "      <th>2</th>\n",
       "      <td>Product X</td>\n",
       "      <td>Large</td>\n",
       "    </tr>\n",
       "    <tr>\n",
       "      <th>1</th>\n",
       "      <td>Product W</td>\n",
       "      <td>Medium</td>\n",
       "    </tr>\n",
       "    <tr>\n",
       "      <th>4</th>\n",
       "      <td>Product Z</td>\n",
       "      <td>Medium</td>\n",
       "    </tr>\n",
       "    <tr>\n",
       "      <th>0</th>\n",
       "      <td>Product V</td>\n",
       "      <td>Small</td>\n",
       "    </tr>\n",
       "    <tr>\n",
       "      <th>3</th>\n",
       "      <td>Product Y</td>\n",
       "      <td>Small</td>\n",
       "    </tr>\n",
       "  </tbody>\n",
       "</table>\n",
       "</div>"
      ],
      "text/plain": [
       "     Product    Size\n",
       "2  Product X   Large\n",
       "1  Product W  Medium\n",
       "4  Product Z  Medium\n",
       "0  Product V   Small\n",
       "3  Product Y   Small"
      ]
     },
     "execution_count": 3,
     "metadata": {},
     "output_type": "execute_result"
    }
   ],
   "source": [
    "import pandas as pd\n",
    "\n",
    "data = {\n",
    "    'Product': ['Product V', 'Product W', 'Product X', 'Product Y', 'Product Z'],\n",
    "    'Size': ['Small', 'Medium', 'Large', 'Small', 'Medium']\n",
    "}\n",
    "\n",
    "df2 = pd.DataFrame(data)\n",
    "\n",
    "ordinal_order = ['Small', 'Medium', 'Large']\n",
    "\n",
    "df2['Size'] = pd.Categorical(df2['Size'], categories=['Small', 'Medium', 'Large'], ordered=True)\n",
    "print(ordinal_order)\n",
    "df2.sort_values(by='Size', ascending=False)"
   ]
  },
  {
   "cell_type": "markdown",
   "metadata": {},
   "source": [
    "##### 3. Given a DataFrame ‘df3’ with a column ‘Color’ containing nominal data (‘Red’, ‘Blue’, and ‘Green’), write a code to convert this column into dummy variables.\n",
    "\n",
    "```\n",
    "'Product': ['Product K', 'Product L', 'Product M'],\n",
    "'Color': ['Red', 'Blue', 'Green']\n",
    "```\n",
    "\n",
    "Note: The pd.get_dummies() function is used to convert categorical variable(s) into dummy/indicator variables. Each category becomes a new column in the DataFrame and is binary."
   ]
  },
  {
   "cell_type": "code",
   "execution_count": 34,
   "metadata": {},
   "outputs": [
    {
     "name": "stdout",
     "output_type": "stream",
     "text": [
      "{'Product': ('Product K', 'Product L', 'Product M'), 'Color': ('Red', 'Blue', 'Green')}\n"
     ]
    },
    {
     "data": {
      "text/html": [
       "<div>\n",
       "<style scoped>\n",
       "    .dataframe tbody tr th:only-of-type {\n",
       "        vertical-align: middle;\n",
       "    }\n",
       "\n",
       "    .dataframe tbody tr th {\n",
       "        vertical-align: top;\n",
       "    }\n",
       "\n",
       "    .dataframe thead th {\n",
       "        text-align: right;\n",
       "    }\n",
       "</style>\n",
       "<table border=\"1\" class=\"dataframe\">\n",
       "  <thead>\n",
       "    <tr style=\"text-align: right;\">\n",
       "      <th></th>\n",
       "      <th>(Product K, Product L, Product M)</th>\n",
       "      <th>(Red, Blue, Green)</th>\n",
       "    </tr>\n",
       "  </thead>\n",
       "  <tbody>\n",
       "    <tr>\n",
       "      <th>0</th>\n",
       "      <td>True</td>\n",
       "      <td>False</td>\n",
       "    </tr>\n",
       "    <tr>\n",
       "      <th>1</th>\n",
       "      <td>False</td>\n",
       "      <td>True</td>\n",
       "    </tr>\n",
       "  </tbody>\n",
       "</table>\n",
       "</div>"
      ],
      "text/plain": [
       "   (Product K, Product L, Product M)  (Red, Blue, Green)\n",
       "0                               True               False\n",
       "1                              False                True"
      ]
     },
     "execution_count": 34,
     "metadata": {},
     "output_type": "execute_result"
    }
   ],
   "source": [
    "df1 = pd.DataFrame = {\n",
    "    'Product': tuple(['Product K', 'Product L', 'Product M'],),\n",
    "    'Color': tuple(['Red', 'Blue', 'Green'])\n",
    "}\n",
    "\n",
    "print(df1)\n",
    "\n",
    "pd.get_dummies(df1)\n"
   ]
  },
  {
   "cell_type": "markdown",
   "metadata": {},
   "source": [
    "##### 4. Now consider another DataFrame ‘df4’ with a column ‘Age’ containing numerical data. Write a code to divide this column into bins using pd.cut() and pd.qcut().\n",
    "\n",
    "```\n",
    "\"Name\": [\"Person A\", \"Person B\", \"Person C\", \"Person D\", \"Person E\"],\n",
    "\"Age\": [20, 25, 30, 35, 40]\n",
    "```\n",
    "\n",
    "Note: The pd.cut() function is used to segment and sort data values into bins. This function is also useful for going from a continuous variable to a categorical variable. On the other hand, pd.qcut() is a quantile-based discretization function which discretize variable into equal-sized buckets based on rank or based on sample quantiles."
   ]
  },
  {
   "cell_type": "code",
   "execution_count": 6,
   "metadata": {},
   "outputs": [
    {
     "name": "stdout",
     "output_type": "stream",
     "text": [
      "       Name  Age        Age_Cut\n",
      "0  Person A   20  (19.98, 30.0]\n",
      "1  Person B   25  (19.98, 30.0]\n",
      "2  Person C   30  (19.98, 30.0]\n",
      "3  Person D   35   (30.0, 40.0]\n",
      "4  Person E   40   (30.0, 40.0]\n"
     ]
    },
    {
     "data": {
      "text/html": [
       "<div>\n",
       "<style scoped>\n",
       "    .dataframe tbody tr th:only-of-type {\n",
       "        vertical-align: middle;\n",
       "    }\n",
       "\n",
       "    .dataframe tbody tr th {\n",
       "        vertical-align: top;\n",
       "    }\n",
       "\n",
       "    .dataframe thead th {\n",
       "        text-align: right;\n",
       "    }\n",
       "</style>\n",
       "<table border=\"1\" class=\"dataframe\">\n",
       "  <thead>\n",
       "    <tr style=\"text-align: right;\">\n",
       "      <th></th>\n",
       "      <th>Name</th>\n",
       "      <th>Age</th>\n",
       "      <th>Age_Cut</th>\n",
       "      <th>Age_QCut</th>\n",
       "    </tr>\n",
       "  </thead>\n",
       "  <tbody>\n",
       "    <tr>\n",
       "      <th>0</th>\n",
       "      <td>Person A</td>\n",
       "      <td>20</td>\n",
       "      <td>(19.98, 30.0]</td>\n",
       "      <td>(19.999, 30.0]</td>\n",
       "    </tr>\n",
       "    <tr>\n",
       "      <th>1</th>\n",
       "      <td>Person B</td>\n",
       "      <td>25</td>\n",
       "      <td>(19.98, 30.0]</td>\n",
       "      <td>(19.999, 30.0]</td>\n",
       "    </tr>\n",
       "    <tr>\n",
       "      <th>2</th>\n",
       "      <td>Person C</td>\n",
       "      <td>30</td>\n",
       "      <td>(19.98, 30.0]</td>\n",
       "      <td>(19.999, 30.0]</td>\n",
       "    </tr>\n",
       "    <tr>\n",
       "      <th>3</th>\n",
       "      <td>Person D</td>\n",
       "      <td>35</td>\n",
       "      <td>(30.0, 40.0]</td>\n",
       "      <td>(30.0, 40.0]</td>\n",
       "    </tr>\n",
       "    <tr>\n",
       "      <th>4</th>\n",
       "      <td>Person E</td>\n",
       "      <td>40</td>\n",
       "      <td>(30.0, 40.0]</td>\n",
       "      <td>(30.0, 40.0]</td>\n",
       "    </tr>\n",
       "  </tbody>\n",
       "</table>\n",
       "</div>"
      ],
      "text/plain": [
       "       Name  Age        Age_Cut        Age_QCut\n",
       "0  Person A   20  (19.98, 30.0]  (19.999, 30.0]\n",
       "1  Person B   25  (19.98, 30.0]  (19.999, 30.0]\n",
       "2  Person C   30  (19.98, 30.0]  (19.999, 30.0]\n",
       "3  Person D   35   (30.0, 40.0]    (30.0, 40.0]\n",
       "4  Person E   40   (30.0, 40.0]    (30.0, 40.0]"
      ]
     },
     "execution_count": 6,
     "metadata": {},
     "output_type": "execute_result"
    }
   ],
   "source": [
    "#My code before looking at solutions\n",
    "\n",
    "#df4 = pd.DataFrame =({\n",
    "#    'Name': ['Person A', 'Person B', 'Person C', 'Person D', 'Person E'],\n",
    "    #'Age': [20, 25, 30, 35, 40]\n",
    "#})\n",
    "\n",
    "#group_names = ['Group1', 'Group2', 'Group3', 'Group4', 'Group5']\n",
    "#age_range_bins = ['20', '25', '30', '35', '40']\n",
    "\n",
    "#df4['Person'] = pd.cut(df4['Name'], bins=age_range_bins, labels=group_names)\n",
    "\n",
    "#print(df4)\n",
    "\n",
    "#solutions code\n",
    "\n",
    "df4 = pd.DataFrame({\n",
    "    \"Name\": [\"Person A\", \"Person B\", \"Person C\", \"Person D\", \"Person E\"],\n",
    "    \"Age\": [20, 25, 30, 35, 40]\n",
    "})\n",
    "\n",
    "# Divide the ‘Age’ column into bins using pd.cut()\n",
    "df4['Age_Cut'] = pd.cut(df4['Age'], bins=2)\n",
    "print(df4)\n",
    "\n",
    "# Divide the ‘Age’ column into bins using pd.qcut()\n",
    "df4['Age_QCut'] = pd.qcut(df4['Age'], q=2)\n",
    "df4"
   ]
  },
  {
   "cell_type": "markdown",
   "metadata": {},
   "source": [
    "### Task 6 (Homework) - Element-wise Operations"
   ]
  },
  {
   "cell_type": "markdown",
   "metadata": {},
   "source": [
    "##### 1. Given a DataFrame ‘df1’ with columns ‘A’, ‘B’, and ‘C’, writecode to calculate the sum of ‘A’ and ‘B’ and store the result in ‘C’.\n",
    "\n",
    "```\n",
    "'A': [1, 2, 3, 4, 5],\n",
    "'B': [6, 7, 8, 9, 10]\n",
    "```\n",
    "\n",
    "Note: This is an example of a non-element-wise operation in pandas. The ‘+’ operator is used to add the corresponding elements of ‘A’ and ‘B’."
   ]
  },
  {
   "cell_type": "code",
   "execution_count": 3,
   "metadata": {},
   "outputs": [
    {
     "data": {
      "text/html": [
       "<div>\n",
       "<style scoped>\n",
       "    .dataframe tbody tr th:only-of-type {\n",
       "        vertical-align: middle;\n",
       "    }\n",
       "\n",
       "    .dataframe tbody tr th {\n",
       "        vertical-align: top;\n",
       "    }\n",
       "\n",
       "    .dataframe thead th {\n",
       "        text-align: right;\n",
       "    }\n",
       "</style>\n",
       "<table border=\"1\" class=\"dataframe\">\n",
       "  <thead>\n",
       "    <tr style=\"text-align: right;\">\n",
       "      <th></th>\n",
       "      <th>A</th>\n",
       "      <th>B</th>\n",
       "      <th>C</th>\n",
       "    </tr>\n",
       "  </thead>\n",
       "  <tbody>\n",
       "    <tr>\n",
       "      <th>0</th>\n",
       "      <td>1</td>\n",
       "      <td>6</td>\n",
       "      <td>7</td>\n",
       "    </tr>\n",
       "    <tr>\n",
       "      <th>1</th>\n",
       "      <td>2</td>\n",
       "      <td>7</td>\n",
       "      <td>9</td>\n",
       "    </tr>\n",
       "    <tr>\n",
       "      <th>2</th>\n",
       "      <td>3</td>\n",
       "      <td>8</td>\n",
       "      <td>11</td>\n",
       "    </tr>\n",
       "    <tr>\n",
       "      <th>3</th>\n",
       "      <td>4</td>\n",
       "      <td>9</td>\n",
       "      <td>13</td>\n",
       "    </tr>\n",
       "    <tr>\n",
       "      <th>4</th>\n",
       "      <td>5</td>\n",
       "      <td>10</td>\n",
       "      <td>15</td>\n",
       "    </tr>\n",
       "  </tbody>\n",
       "</table>\n",
       "</div>"
      ],
      "text/plain": [
       "   A   B   C\n",
       "0  1   6   7\n",
       "1  2   7   9\n",
       "2  3   8  11\n",
       "3  4   9  13\n",
       "4  5  10  15"
      ]
     },
     "execution_count": 3,
     "metadata": {},
     "output_type": "execute_result"
    }
   ],
   "source": [
    "df = pd.DataFrame({\n",
    "    'A': [1, 2, 3, 4, 5],\n",
    "    'B': [6, 7, 8, 9, 10]\n",
    "})\n",
    "\n",
    "df['C'] = df['A'] + df['B']\n",
    "df\n",
    "\n"
   ]
  },
  {
   "cell_type": "markdown",
   "metadata": {},
   "source": [
    "##### 2. Now consider another DataFrame ‘df2’ with the same columns but different data. Modify your code to calculate the product of ‘A’ and ‘B’ and store the result in ‘C’.\n",
    "\n",
    "```\n",
    "'A': [1, 2, 3, 4, 5],\n",
    "'B': [6, 7, 8, 9, 10]\n",
    "```\n",
    "\n",
    "Note: The ‘*’ operator is used to multiply the corresponding elements of ‘A’ and ‘B’."
   ]
  },
  {
   "cell_type": "code",
   "execution_count": 4,
   "metadata": {},
   "outputs": [
    {
     "data": {
      "text/html": [
       "<div>\n",
       "<style scoped>\n",
       "    .dataframe tbody tr th:only-of-type {\n",
       "        vertical-align: middle;\n",
       "    }\n",
       "\n",
       "    .dataframe tbody tr th {\n",
       "        vertical-align: top;\n",
       "    }\n",
       "\n",
       "    .dataframe thead th {\n",
       "        text-align: right;\n",
       "    }\n",
       "</style>\n",
       "<table border=\"1\" class=\"dataframe\">\n",
       "  <thead>\n",
       "    <tr style=\"text-align: right;\">\n",
       "      <th></th>\n",
       "      <th>A</th>\n",
       "      <th>B</th>\n",
       "      <th>C</th>\n",
       "    </tr>\n",
       "  </thead>\n",
       "  <tbody>\n",
       "    <tr>\n",
       "      <th>0</th>\n",
       "      <td>16</td>\n",
       "      <td>1</td>\n",
       "      <td>16</td>\n",
       "    </tr>\n",
       "    <tr>\n",
       "      <th>1</th>\n",
       "      <td>7</td>\n",
       "      <td>2</td>\n",
       "      <td>14</td>\n",
       "    </tr>\n",
       "    <tr>\n",
       "      <th>2</th>\n",
       "      <td>8</td>\n",
       "      <td>3</td>\n",
       "      <td>24</td>\n",
       "    </tr>\n",
       "    <tr>\n",
       "      <th>3</th>\n",
       "      <td>9</td>\n",
       "      <td>4</td>\n",
       "      <td>36</td>\n",
       "    </tr>\n",
       "    <tr>\n",
       "      <th>4</th>\n",
       "      <td>10</td>\n",
       "      <td>5</td>\n",
       "      <td>50</td>\n",
       "    </tr>\n",
       "  </tbody>\n",
       "</table>\n",
       "</div>"
      ],
      "text/plain": [
       "    A  B   C\n",
       "0  16  1  16\n",
       "1   7  2  14\n",
       "2   8  3  24\n",
       "3   9  4  36\n",
       "4  10  5  50"
      ]
     },
     "execution_count": 4,
     "metadata": {},
     "output_type": "execute_result"
    }
   ],
   "source": [
    "df2 = pd.DataFrame({\n",
    "    'A': [16, 7, 8, 9, 10],\n",
    "    'B': [1, 2, 3, 4, 5]\n",
    "})\n",
    "df2['C'] = df2['A'] * df2['B']\n",
    "df2"
   ]
  },
  {
   "cell_type": "markdown",
   "metadata": {},
   "source": [
    "##### 3. Given a DataFrame ‘df3’ with columns ‘D’, ‘E’, and ‘F’, write code to calculate the sum of ‘D’ and ‘E’ using eval() function and store the result in ‘F’.\n",
    "\n",
    "```\n",
    "'D': [11, 12, 13, 14, 15],\n",
    "'E': [16, 17, 18, 19, 20]\n",
    "```\n",
    "\n",
    "Note: The eval() function in pandas is used to evaluate an expression that operates on columns in a DataFrame. It allows element-wise operations to be expressed more succinctly."
   ]
  },
  {
   "cell_type": "code",
   "execution_count": 5,
   "metadata": {},
   "outputs": [
    {
     "data": {
      "text/html": [
       "<div>\n",
       "<style scoped>\n",
       "    .dataframe tbody tr th:only-of-type {\n",
       "        vertical-align: middle;\n",
       "    }\n",
       "\n",
       "    .dataframe tbody tr th {\n",
       "        vertical-align: top;\n",
       "    }\n",
       "\n",
       "    .dataframe thead th {\n",
       "        text-align: right;\n",
       "    }\n",
       "</style>\n",
       "<table border=\"1\" class=\"dataframe\">\n",
       "  <thead>\n",
       "    <tr style=\"text-align: right;\">\n",
       "      <th></th>\n",
       "      <th>A</th>\n",
       "      <th>B</th>\n",
       "      <th>C</th>\n",
       "    </tr>\n",
       "  </thead>\n",
       "  <tbody>\n",
       "    <tr>\n",
       "      <th>0</th>\n",
       "      <td>16</td>\n",
       "      <td>1</td>\n",
       "      <td>17</td>\n",
       "    </tr>\n",
       "    <tr>\n",
       "      <th>1</th>\n",
       "      <td>7</td>\n",
       "      <td>2</td>\n",
       "      <td>9</td>\n",
       "    </tr>\n",
       "    <tr>\n",
       "      <th>2</th>\n",
       "      <td>8</td>\n",
       "      <td>3</td>\n",
       "      <td>11</td>\n",
       "    </tr>\n",
       "    <tr>\n",
       "      <th>3</th>\n",
       "      <td>9</td>\n",
       "      <td>4</td>\n",
       "      <td>13</td>\n",
       "    </tr>\n",
       "    <tr>\n",
       "      <th>4</th>\n",
       "      <td>10</td>\n",
       "      <td>5</td>\n",
       "      <td>15</td>\n",
       "    </tr>\n",
       "  </tbody>\n",
       "</table>\n",
       "</div>"
      ],
      "text/plain": [
       "    A  B   C\n",
       "0  16  1  17\n",
       "1   7  2   9\n",
       "2   8  3  11\n",
       "3   9  4  13\n",
       "4  10  5  15"
      ]
     },
     "execution_count": 5,
     "metadata": {},
     "output_type": "execute_result"
    }
   ],
   "source": [
    "df3 = pd.DataFrame({\n",
    "    'A': [16, 7, 8, 9, 10],\n",
    "    'B': [1, 2, 3, 4, 5]\n",
    "})\n",
    "df3.eval('C = A + B', inplace=True)\n",
    "df3"
   ]
  },
  {
   "cell_type": "markdown",
   "metadata": {},
   "source": [
    "##### 4. Modify your code to calculate the product of ‘D’ and ‘E’ using eval() function and store the result in ‘F’.\n",
    "\n",
    "Note: The eval() function allows for more complex expressions involving multiplication."
   ]
  },
  {
   "cell_type": "code",
   "execution_count": 8,
   "metadata": {},
   "outputs": [
    {
     "data": {
      "text/html": [
       "<div>\n",
       "<style scoped>\n",
       "    .dataframe tbody tr th:only-of-type {\n",
       "        vertical-align: middle;\n",
       "    }\n",
       "\n",
       "    .dataframe tbody tr th {\n",
       "        vertical-align: top;\n",
       "    }\n",
       "\n",
       "    .dataframe thead th {\n",
       "        text-align: right;\n",
       "    }\n",
       "</style>\n",
       "<table border=\"1\" class=\"dataframe\">\n",
       "  <thead>\n",
       "    <tr style=\"text-align: right;\">\n",
       "      <th></th>\n",
       "      <th>D</th>\n",
       "      <th>E</th>\n",
       "      <th>F</th>\n",
       "    </tr>\n",
       "  </thead>\n",
       "  <tbody>\n",
       "    <tr>\n",
       "      <th>0</th>\n",
       "      <td>22</td>\n",
       "      <td>11</td>\n",
       "      <td>242</td>\n",
       "    </tr>\n",
       "    <tr>\n",
       "      <th>1</th>\n",
       "      <td>14</td>\n",
       "      <td>32</td>\n",
       "      <td>448</td>\n",
       "    </tr>\n",
       "    <tr>\n",
       "      <th>2</th>\n",
       "      <td>18</td>\n",
       "      <td>33</td>\n",
       "      <td>594</td>\n",
       "    </tr>\n",
       "    <tr>\n",
       "      <th>3</th>\n",
       "      <td>29</td>\n",
       "      <td>44</td>\n",
       "      <td>1276</td>\n",
       "    </tr>\n",
       "    <tr>\n",
       "      <th>4</th>\n",
       "      <td>10</td>\n",
       "      <td>56</td>\n",
       "      <td>560</td>\n",
       "    </tr>\n",
       "  </tbody>\n",
       "</table>\n",
       "</div>"
      ],
      "text/plain": [
       "    D   E     F\n",
       "0  22  11   242\n",
       "1  14  32   448\n",
       "2  18  33   594\n",
       "3  29  44  1276\n",
       "4  10  56   560"
      ]
     },
     "execution_count": 8,
     "metadata": {},
     "output_type": "execute_result"
    }
   ],
   "source": [
    "df4 = pd.DataFrame({\n",
    "    'D': [22, 14, 18, 29, 10],\n",
    "    'E': [11, 32, 33, 44, 56]\n",
    "})\n",
    "\n",
    "df4.eval('F = D * E')\n"
   ]
  },
  {
   "cell_type": "markdown",
   "metadata": {},
   "source": [
    "##### 5. Given a DataFrame ‘df5’ with columns ‘Product’, ‘Sales_2019’, and ‘Sales_2020’, write code to filter rows where ‘Sales_2019’ is greater than ‘Sales_2020’ using query() function.\n",
    "\n",
    "```\n",
    "'Product': ['Product A', 'Product B', 'Product C', 'Product D', 'Product E'],\n",
    "'Sales_2019': [200, 300, 250, 350, 275],\n",
    "'Sales_2020': [220, 280, 260, 330, 290]\n",
    "```\n",
    "\n",
    "Note: The query() function in pandas is used to filter rows of a DataFrame based on a query expression."
   ]
  },
  {
   "cell_type": "code",
   "execution_count": 9,
   "metadata": {},
   "outputs": [
    {
     "data": {
      "text/html": [
       "<div>\n",
       "<style scoped>\n",
       "    .dataframe tbody tr th:only-of-type {\n",
       "        vertical-align: middle;\n",
       "    }\n",
       "\n",
       "    .dataframe tbody tr th {\n",
       "        vertical-align: top;\n",
       "    }\n",
       "\n",
       "    .dataframe thead th {\n",
       "        text-align: right;\n",
       "    }\n",
       "</style>\n",
       "<table border=\"1\" class=\"dataframe\">\n",
       "  <thead>\n",
       "    <tr style=\"text-align: right;\">\n",
       "      <th></th>\n",
       "      <th>Product</th>\n",
       "      <th>Sales_2019</th>\n",
       "      <th>Sales_2020</th>\n",
       "    </tr>\n",
       "  </thead>\n",
       "  <tbody>\n",
       "    <tr>\n",
       "      <th>1</th>\n",
       "      <td>Product B</td>\n",
       "      <td>300</td>\n",
       "      <td>280</td>\n",
       "    </tr>\n",
       "    <tr>\n",
       "      <th>3</th>\n",
       "      <td>Product D</td>\n",
       "      <td>350</td>\n",
       "      <td>330</td>\n",
       "    </tr>\n",
       "  </tbody>\n",
       "</table>\n",
       "</div>"
      ],
      "text/plain": [
       "     Product  Sales_2019  Sales_2020\n",
       "1  Product B         300         280\n",
       "3  Product D         350         330"
      ]
     },
     "execution_count": 9,
     "metadata": {},
     "output_type": "execute_result"
    }
   ],
   "source": [
    "df5 = pd.DataFrame({\n",
    "    'Product': ['Product A', 'Product B', 'Product C', 'Product D', 'Product E'],\n",
    "    'Sales_2019': [200, 300, 250, 350, 275],\n",
    "    'Sales_2020': [220, 280, 260, 330, 290]\n",
    "})\n",
    "\n",
    "filtered_df = df5.query('Sales_2019 > Sales_2020')\n",
    "filtered_df"
   ]
  },
  {
   "cell_type": "markdown",
   "metadata": {},
   "source": [
    "##### 6. Given a DataFrame ‘df6’ with columns ‘City’, ‘Population_2019’, and ‘Population_2020’, write code to first calculate the population growth from 2019 to 2020 using eval() function and store the result in a new column ‘Growth’. Then, use query() function to filter rows where ‘Growth’ is greater than 0.\n",
    "\n",
    "```\n",
    "'City': ['City F', 'City G', 'City H', 'City I', 'City J'],\n",
    "'Population_2019': [21000, 22000, 23000, 24000, 25000],\n",
    "'Population_2020': [21500, 22500, 22500, 23500, 24500]\n",
    "```\n",
    "\n",
    "Note: The eval() function in pandas is used to evaluate an expression that operates on columns in a DataFrame. It allows element-wise operations to be expressed more succinctly. The query() function is used to filter rows of a DataFrame based on a query expression."
   ]
  },
  {
   "cell_type": "code",
   "execution_count": 11,
   "metadata": {},
   "outputs": [
    {
     "data": {
      "text/html": [
       "<div>\n",
       "<style scoped>\n",
       "    .dataframe tbody tr th:only-of-type {\n",
       "        vertical-align: middle;\n",
       "    }\n",
       "\n",
       "    .dataframe tbody tr th {\n",
       "        vertical-align: top;\n",
       "    }\n",
       "\n",
       "    .dataframe thead th {\n",
       "        text-align: right;\n",
       "    }\n",
       "</style>\n",
       "<table border=\"1\" class=\"dataframe\">\n",
       "  <thead>\n",
       "    <tr style=\"text-align: right;\">\n",
       "      <th></th>\n",
       "      <th>City</th>\n",
       "      <th>Population_2019</th>\n",
       "      <th>Population_2020</th>\n",
       "      <th>Growth</th>\n",
       "    </tr>\n",
       "  </thead>\n",
       "  <tbody>\n",
       "    <tr>\n",
       "      <th>0</th>\n",
       "      <td>City F</td>\n",
       "      <td>21000</td>\n",
       "      <td>21500</td>\n",
       "      <td>500</td>\n",
       "    </tr>\n",
       "    <tr>\n",
       "      <th>1</th>\n",
       "      <td>City G</td>\n",
       "      <td>22000</td>\n",
       "      <td>22500</td>\n",
       "      <td>500</td>\n",
       "    </tr>\n",
       "  </tbody>\n",
       "</table>\n",
       "</div>"
      ],
      "text/plain": [
       "     City  Population_2019  Population_2020  Growth\n",
       "0  City F            21000            21500     500\n",
       "1  City G            22000            22500     500"
      ]
     },
     "execution_count": 11,
     "metadata": {},
     "output_type": "execute_result"
    }
   ],
   "source": [
    "df7 = pd.DataFrame({\n",
    "    'City': ['City F', 'City G', 'City H', 'City I', 'City J'],\n",
    "    'Population_2019': [21000, 22000, 23000, 24000, 25000],\n",
    "    'Population_2020': [21500, 22500, 22500, 23500, 24500]\n",
    "})\n",
    "\n",
    "df7['Growth'] = df7.eval('Population_2020 - Population_2019')\n",
    "\n",
    "result = df7.query('Growth > 0')\n",
    "result"
   ]
  },
  {
   "cell_type": "markdown",
   "metadata": {},
   "source": [
    "##### 7. (Optional) Investigate implemented multi-indexing, eval() and query() in the same code block."
   ]
  },
  {
   "cell_type": "code",
   "execution_count": 15,
   "metadata": {},
   "outputs": [
    {
     "name": "stdout",
     "output_type": "stream",
     "text": [
      "                                        Growth\n",
      "City   Population_2019 Population_2020        \n",
      "City F 21000           21500               500\n",
      "City G 22000           22500               500\n"
     ]
    },
    {
     "data": {
      "text/html": [
       "<div>\n",
       "<style scoped>\n",
       "    .dataframe tbody tr th:only-of-type {\n",
       "        vertical-align: middle;\n",
       "    }\n",
       "\n",
       "    .dataframe tbody tr th {\n",
       "        vertical-align: top;\n",
       "    }\n",
       "\n",
       "    .dataframe thead th {\n",
       "        text-align: right;\n",
       "    }\n",
       "</style>\n",
       "<table border=\"1\" class=\"dataframe\">\n",
       "  <thead>\n",
       "    <tr style=\"text-align: right;\">\n",
       "      <th></th>\n",
       "      <th>City</th>\n",
       "      <th>Population_2019</th>\n",
       "      <th>Population_2020</th>\n",
       "      <th>Growth</th>\n",
       "    </tr>\n",
       "  </thead>\n",
       "  <tbody>\n",
       "    <tr>\n",
       "      <th>0</th>\n",
       "      <td>City F</td>\n",
       "      <td>21000</td>\n",
       "      <td>21500</td>\n",
       "      <td>500</td>\n",
       "    </tr>\n",
       "    <tr>\n",
       "      <th>1</th>\n",
       "      <td>City G</td>\n",
       "      <td>22000</td>\n",
       "      <td>22500</td>\n",
       "      <td>500</td>\n",
       "    </tr>\n",
       "  </tbody>\n",
       "</table>\n",
       "</div>"
      ],
      "text/plain": [
       "     City  Population_2019  Population_2020  Growth\n",
       "0  City F            21000            21500     500\n",
       "1  City G            22000            22500     500"
      ]
     },
     "execution_count": 15,
     "metadata": {},
     "output_type": "execute_result"
    }
   ],
   "source": [
    "#df7 = pd.DataFrame({\n",
    "#    'City': ['City F', 'City G', 'City H', 'City I', 'City J'],\n",
    "#    'Population_2019': [21000, 22000, 23000, 24000, 25000],\n",
    "#    'Population_2020': [21500, 22500, 22500, 23500, 24500]\n",
    "#})\n",
    "\n",
    "#df7['Growth'] = df7.eval('Population_2020 - Population_2019')\n",
    "\n",
    "#result = df7.query('Growth > 0')\n",
    "#result = pd.MultiIndex.from_frame(df7)\n",
    "\n",
    "#result\n",
    "\n",
    "df7 = pd.DataFrame({\n",
    "    'City': ['City F', 'City G', 'City H', 'City I', 'City J'],\n",
    "    'Population_2019': [21000, 22000, 23000, 24000, 25000],\n",
    "    'Population_2020': [21500, 22500, 22500, 23500, 24500]\n",
    "})\n",
    "\n",
    "df7['Growth'] = df7.eval('Population_2020 - Population_2019')\n",
    "\n",
    "result = df7.query('Growth > 0')\n",
    "hierarchical_df = result.set_index(['City', 'Population_2019', 'Population_2020'])\n",
    "\n",
    "print(hierarchical_df)\n",
    "result"
   ]
  },
  {
   "cell_type": "markdown",
   "metadata": {},
   "source": [
    "### Task 7 (Homework) - Handling Outliers"
   ]
  },
  {
   "cell_type": "markdown",
   "metadata": {},
   "source": [
    "##### 1. Given the DataFrame ‘df1’, identify outliers in the ‘Temperature’ column using a histogram.\n",
    "\n",
    "```\n",
    "df1 = pd.DataFrame({\n",
    "    'Month': ['Jan', 'Feb', 'Mar', 'Apr', 'May', 'Jun', 'Jul', 'Aug', 'Sep', 'Oct', 'Nov', 'Dec'],\n",
    "    'Temperature': [15, 16, 14, 18, 20, 22, 24, 23, 21, 19, 17, 15],\n",
    "    'Humidity': [30, 32, 35, 40, 45, 50, 55, 50, 45, 40, 35, 30],\n",
    "    'Rainfall': [50, 60, 80, 100, 120, 140, 160, 140, 120, 100, 80, 60],\n",
    "    'WindSpeed': [10, 11, 12, 13, 14, 15, 16, 15, 14, 13 ,12 ,11],\n",
    "    'Snowfall': [30 ,25 ,20 ,15 ,10 ,5 ,0 ,5 ,10 ,15 ,20 ,25],\n",
    "    'CloudCover': [6 ,7 ,8 ,9 ,10 ,9 ,8 ,7 ,6 ,5 ,4 ,3]\n",
    "})\n",
    "```\n",
    "\n",
    "Note: The plot() function with kind=‘hist’ is used to create a histogram. Outliers can be identified as values that are far from the rest of the data."
   ]
  },
  {
   "cell_type": "code",
   "execution_count": 21,
   "metadata": {},
   "outputs": [
    {
     "data": {
      "text/plain": [
       "<Axes: ylabel='Frequency'>"
      ]
     },
     "execution_count": 21,
     "metadata": {},
     "output_type": "execute_result"
    },
    {
     "data": {
      "image/png": "[encoded data removed]",
      "text/plain": [
       "<Figure size 640x480 with 1 Axes>"
      ]
     },
     "metadata": {},
     "output_type": "display_data"
    }
   ],
   "source": [
    "df1 = pd.DataFrame({\n",
    "    'Month': ['Jan', 'Feb', 'Mar', 'Apr', 'May', 'Jun', 'Jul', 'Aug', 'Sep', 'Oct', 'Nov', 'Dec'],\n",
    "    'Temperature': [15, 16, 14, 18, 20, 22, 24, 23, 21, 19, 17, 15],\n",
    "    'Humidity': [30, 32, 35, 40, 45, 50, 55, 50, 45, 40, 35, 30],\n",
    "    'Rainfall': [50, 60, 80, 100, 120, 140, 160, 140, 120, 100, 80, 60],\n",
    "    'WindSpeed': [10, 11, 12, 13, 14, 15, 16, 15, 14, 13 ,12 ,11],\n",
    "    'Snowfall': [30 ,25 ,20 ,15 ,10 ,5 ,0 ,5 ,10 ,15 ,20 ,25],\n",
    "    'CloudCover': [6 ,7 ,8 ,9 ,10 ,9 ,8 ,7 ,6 ,5 ,4 ,3]\n",
    "})\n",
    "\n",
    "df1['Temperature'].plot(kind='hist', bins=20)"
   ]
  },
  {
   "cell_type": "markdown",
   "metadata": {},
   "source": [
    "##### 2. Now consider the same DataFrame ‘df1’. Modify your code to identify outliers in the ‘Humidity’ column using a box plot.\n",
    "\n",
    "Note: The plot() function with kind=‘box’ is used to create a box plot. Outliers can be identified as values that are outside the whiskers of the box plot. These are typically values that are more than 1.5 * IQR (Inter-Quartile Range) away from either the first quartile (25%) or third quartile (75%) in a box plot."
   ]
  },
  {
   "cell_type": "code",
   "execution_count": 22,
   "metadata": {},
   "outputs": [
    {
     "data": {
      "text/plain": [
       "<Axes: >"
      ]
     },
     "execution_count": 22,
     "metadata": {},
     "output_type": "execute_result"
    },
    {
     "data": {
      "image/png": "[encoded data removed]",
      "text/plain": [
       "<Figure size 640x480 with 1 Axes>"
      ]
     },
     "metadata": {},
     "output_type": "display_data"
    }
   ],
   "source": [
    "df1.Humidity.plot(kind='box')"
   ]
  },
  {
   "cell_type": "markdown",
   "metadata": {},
   "source": [
    "### Task 8 (Homework) - Investigate Memory Optimisations in Python and Pandas"
   ]
  },
  {
   "cell_type": "markdown",
   "metadata": {},
   "source": [
    "##### 1. (Optional) Explore the following code and see how it works. Change values, try your own dataset, try larger datasets."
   ]
  },
  {
   "cell_type": "code",
   "execution_count": 26,
   "metadata": {},
   "outputs": [
    {
     "name": "stdout",
     "output_type": "stream",
     "text": [
      "Index          132\n",
      "Month          624\n",
      "Temperature     96\n",
      "Humidity        48\n",
      "Rainfall        96\n",
      "WindSpeed       96\n",
      "Snowfall        96\n",
      "CloudCover      96\n",
      "dtype: int64\n"
     ]
    }
   ],
   "source": [
    "# Optimize the memory usage by changing the data types of the columns\n",
    "df1_optimized = df1.copy()\n",
    "df1_optimized['Temperature'] = df1_optimized['Temperature'].astype('float')\n",
    "df1_optimized['Humidity'] = df1_optimized['Humidity'].astype('int32')\n",
    "\n",
    "# Check the memory usage of each column after optimisation\n",
    "print(df1_optimized.memory_usage(deep=True))"
   ]
  },
  {
   "cell_type": "code",
   "execution_count": null,
   "metadata": {},
   "outputs": [],
   "source": [
    "# Optimize the memory usage by changing the data types of the columns\n",
    "df1_optimized = df1.copy()\n",
    "df1_optimized['Temperature'] = df1_optimized['Temperature'].astype('float32')\n",
    "df1_optimized['Humidity'] = df1_optimized['Humidity'].astype('int32')\n",
    "\n",
    "# Check the memory usage of each column after optimisation\n",
    "print(df1_optimized.memory_usage(deep=True))\n"
   ]
  },
  {
   "cell_type": "code",
   "execution_count": null,
   "metadata": {},
   "outputs": [],
   "source": [
    "# Memory usage before optimisation\n",
    "mem_before = df1.memory_usage(deep=True)\n",
    "\n",
    "# Memory usage after optimisation\n",
    "mem_after = df1_optimized.memory_usage(deep=True)\n",
    "\n",
    "# Create a DataFrame for plotting\n",
    "df_mem = pd.DataFrame({'Before': mem_before, 'After': mem_after})\n",
    "\n",
    "# Plot the memory usage\n",
    "df_mem.plot(kind='bar', title='Memory Usage Before and After Optimisation')\n"
   ]
  }
 ],
 "metadata": {
  "kernelspec": {
   "display_name": "Python 3",
   "language": "python",
   "name": "python3"
  },
  "language_info": {
   "codemirror_mode": {
    "name": "ipython",
    "version": 3
   },
   "file_extension": ".py",
   "mimetype": "text/x-python",
   "name": "python",
   "nbconvert_exporter": "python",
   "pygments_lexer": "ipython3",
   "version": "3.12.2"
  }
 },
 "nbformat": 4,
 "nbformat_minor": 2
}
