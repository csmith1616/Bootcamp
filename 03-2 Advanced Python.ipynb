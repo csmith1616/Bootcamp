{
 "cells": [
  {
   "attachments": {},
   "cell_type": "markdown",
   "metadata": {},
   "source": [
    "# Advanced Python"
   ]
  },
  {
   "attachments": {},
   "cell_type": "markdown",
   "metadata": {},
   "source": [
    "### Task 1: Python Classes"
   ]
  },
  {
   "attachments": {},
   "cell_type": "markdown",
   "metadata": {},
   "source": [
    "1a. Define a class named Student with the following attributes: student_id, student_name, and class_name. Use the __init__ method to initialize these attributes."
   ]
  },
  {
   "cell_type": "code",
   "execution_count": 1,
   "metadata": {},
   "outputs": [],
   "source": [
    "class Student:\n",
    "    def __init__(self, student_id, student_name, class_name):\n",
    "        self.student_id = student_id\n",
    "        self.student_name = student_name\n",
    "        self.class_name = class_name\n",
    "        pass"
   ]
  },
  {
   "attachments": {},
   "cell_type": "markdown",
   "metadata": {},
   "source": [
    "1b. Create an instance of the Student class named student with the following details: ‘V12’ as student_id, ‘Frank Gibson’ as student_name, and ‘V’ as class_name."
   ]
  },
  {
   "cell_type": "code",
   "execution_count": 2,
   "metadata": {},
   "outputs": [
    {
     "name": "stdout",
     "output_type": "stream",
     "text": [
      "Frank Gibson V12 V\n"
     ]
    }
   ],
   "source": [
    "student1 = Student(\"V12\", \"Frank Gibson\", \"V\")\n",
    "print(student1.student_name, student1.student_id, student1.class_name)\n"
   ]
  },
  {
   "attachments": {},
   "cell_type": "markdown",
   "metadata": {},
   "source": [
    "1c. Print the dictionary representation of the student object using the following method:\n",
    "\n",
    "```\n",
    "__dict__\n",
    "```"
   ]
  },
  {
   "cell_type": "code",
   "execution_count": 3,
   "metadata": {},
   "outputs": [
    {
     "name": "stdout",
     "output_type": "stream",
     "text": [
      "{'student_id': 'V12', 'student_name': 'Frank Gibson', 'class_name': 'V'}\n"
     ]
    }
   ],
   "source": [
    "print(student1.__dict__)"
   ]
  },
  {
   "attachments": {},
   "cell_type": "markdown",
   "metadata": {},
   "source": [
    "2a. Import the math module: This module provides access to mathematical functions defined by the C standard"
   ]
  },
  {
   "cell_type": "code",
   "execution_count": 4,
   "metadata": {},
   "outputs": [],
   "source": [
    "import math"
   ]
  },
  {
   "attachments": {},
   "cell_type": "markdown",
   "metadata": {},
   "source": [
    "2b. Define a class named Circle: This class will have two methods: calculate_circle_area and calculate_circle_perimeter\n",
    "\n",
    "These should include the correct calculations"
   ]
  },
  {
   "cell_type": "code",
   "execution_count": 12,
   "metadata": {},
   "outputs": [],
   "source": [
    "#I wasn't sure how to do this and did look at the solutions.\n",
    "\n",
    "class Circle:\n",
    "    def __init__(self, radius):\n",
    "        self.radius = radius\n",
    "    \n",
    "    def calculate_circle_area(self):\n",
    "        return math.pi * self.radius**2\n",
    "    \n",
    "    def calculate_circle_perimeter(self):\n",
    "        return 2 * math.pi * self.radius"
   ]
  },
  {
   "attachments": {},
   "cell_type": "markdown",
   "metadata": {},
   "source": [
    "2c. Create an instance of the Circle class: Prompt the user to input the radius of the circle, then create an instance of the Circle class with this radius."
   ]
  },
  {
   "cell_type": "code",
   "execution_count": 13,
   "metadata": {},
   "outputs": [],
   "source": [
    "radius = float(input(\"Input the radius of the circle: \"))\n",
    "#circle = Circle(float(input(\"Input the radius of the circle\")))\n",
    "circle = Circle(radius)\n"
   ]
  },
  {
   "attachments": {},
   "cell_type": "markdown",
   "metadata": {},
   "source": [
    "2d. Calculate and print the area and perimeter of the circle: Use the calculate_circle_area and calculate_circle_perimeter methods of the Circle class to calculate and print the area and perimeter of the circle."
   ]
  },
  {
   "cell_type": "code",
   "execution_count": 15,
   "metadata": {},
   "outputs": [
    {
     "name": "stdout",
     "output_type": "stream",
     "text": [
      "28.274333882308138 18.84955592153876\n"
     ]
    }
   ],
   "source": [
    "area = circle.calculate_circle_area()\n",
    "perimeter = circle.calculate_circle_perimeter()\n",
    "\n",
    "print(area, perimeter)"
   ]
  },
  {
   "attachments": {},
   "cell_type": "markdown",
   "metadata": {},
   "source": [
    "##### Constructors and Destructors"
   ]
  },
  {
   "attachments": {},
   "cell_type": "markdown",
   "metadata": {},
   "source": [
    "3a. Create a class Person with a constructor that initializes two attributes: name and age. Also, define a destructor that prints a message with the Person name attribute when an object of this class is destroyed."
   ]
  },
  {
   "cell_type": "code",
   "execution_count": 20,
   "metadata": {},
   "outputs": [],
   "source": [
    "class Person:\n",
    "    def __init__(self, name, age):\n",
    "        self.name = name\n",
    "        self.age = age\n",
    "        \n",
    "        pass\n",
    "    def __del__(self):\n",
    "        print(f\"{self.name} is being destroyed\")\n",
    "\n",
    "   "
   ]
  },
  {
   "attachments": {},
   "cell_type": "markdown",
   "metadata": {},
   "source": [
    "3b. Create a Person object from 3a and then delete the object using the del command."
   ]
  },
  {
   "cell_type": "code",
   "execution_count": 21,
   "metadata": {},
   "outputs": [
    {
     "name": "stdout",
     "output_type": "stream",
     "text": [
      "Jane is being destroyed\n"
     ]
    }
   ],
   "source": [
    "person1 = Person('Jane', 29)\n",
    "del person1\n"
   ]
  },
  {
   "attachments": {},
   "cell_type": "markdown",
   "metadata": {},
   "source": [
    "### Task 2: Inheritance and Polymorphism"
   ]
  },
  {
   "attachments": {},
   "cell_type": "markdown",
   "metadata": {},
   "source": [
    "1a. Create a class Animal with a method eat that prints “Eating…”.\n",
    "\n",
    "Then create a class Dog that inherits from Animal and has a method bark that prints “Barking…”."
   ]
  },
  {
   "cell_type": "code",
   "execution_count": 26,
   "metadata": {},
   "outputs": [],
   "source": [
    "class Animal:\n",
    "    def eat(self):\n",
    "        #self.eating = eating\n",
    "        print(\"Eating...\")\n",
    "\n",
    "class Dog(Animal):\n",
    "    def bark(self):\n",
    "        print(\"Barking...\")\n"
   ]
  },
  {
   "attachments": {},
   "cell_type": "markdown",
   "metadata": {},
   "source": [
    "1b. Create an object of the Dog class.\n",
    "\n",
    "Call the eat method from the Animal class\n",
    "\n",
    "Call the bark method from the Dog class"
   ]
  },
  {
   "cell_type": "code",
   "execution_count": 27,
   "metadata": {},
   "outputs": [
    {
     "name": "stdout",
     "output_type": "stream",
     "text": [
      "Eating...\n",
      "Barking...\n"
     ]
    }
   ],
   "source": [
    "dog = Dog()\n",
    "\n",
    "dog.eat()\n",
    "\n",
    "dog.bark()"
   ]
  },
  {
   "attachments": {},
   "cell_type": "markdown",
   "metadata": {},
   "source": [
    "2a. Create a class Person with a constructor that initializes an attribute name."
   ]
  },
  {
   "cell_type": "code",
   "execution_count": 13,
   "metadata": {},
   "outputs": [],
   "source": [
    "class Person:\n",
    "    def __init__(self, name):\n",
    "        self.name = name\n",
    "        pass\n"
   ]
  },
  {
   "attachments": {},
   "cell_type": "markdown",
   "metadata": {},
   "source": [
    "2b. Create a class Employee that inherits from Person and also has an attribute id."
   ]
  },
  {
   "cell_type": "code",
   "execution_count": 14,
   "metadata": {},
   "outputs": [],
   "source": [
    "class Employee(Person):\n",
    "    def __init__(self, name, id):\n",
    "        super().__init__(name)\n",
    "        self.id = id\n"
   ]
  },
  {
   "attachments": {},
   "cell_type": "markdown",
   "metadata": {},
   "source": [
    "2c. Create an object of the Employee class.\n"
   ]
  },
  {
   "cell_type": "code",
   "execution_count": 15,
   "metadata": {},
   "outputs": [],
   "source": [
    "an_employee = Employee('Harry', '0122')"
   ]
  },
  {
   "attachments": {},
   "cell_type": "markdown",
   "metadata": {},
   "source": [
    "2d. Print the name and id of the employee."
   ]
  },
  {
   "cell_type": "code",
   "execution_count": 16,
   "metadata": {},
   "outputs": [
    {
     "name": "stdout",
     "output_type": "stream",
     "text": [
      "Harry\n",
      "0122\n"
     ]
    }
   ],
   "source": [
    "print(an_employee.name)\n",
    "print(an_employee.id)"
   ]
  },
  {
   "attachments": {},
   "cell_type": "markdown",
   "metadata": {},
   "source": [
    "### Task 3: Encapsulation"
   ]
  },
  {
   "attachments": {},
   "cell_type": "markdown",
   "metadata": {},
   "source": [
    "1a. Create a class Person with two private attributes: name and age.\n",
    "\n",
    "Provide getter and setter methods for these attributes."
   ]
  },
  {
   "cell_type": "code",
   "execution_count": 17,
   "metadata": {},
   "outputs": [],
   "source": [
    "class Person:\n",
    "    def __init__(self, name, age):\n",
    "        self.__name = name\n",
    "        self.__age = age\n",
    "        pass\n",
    "\n",
    "    def get_name(self):\n",
    "        return self.__name\n",
    "    \n",
    "    def set_name(self, name):\n",
    "        self.__name = name\n",
    "\n",
    "    def get_age(self):\n",
    "        return self.__age\n",
    "    \n",
    "    def set_age(self, name):\n",
    "        self.__age = name\n"
   ]
  },
  {
   "attachments": {},
   "cell_type": "markdown",
   "metadata": {},
   "source": [
    "1b. Create an object of the Person class.\n",
    "\n",
    "Get the name and age using the getter methods.\n",
    "\n",
    "Set the name and age using the setter methods.\n",
    "\n",
    "Get the updated name and age"
   ]
  },
  {
   "cell_type": "code",
   "execution_count": 20,
   "metadata": {},
   "outputs": [
    {
     "name": "stdout",
     "output_type": "stream",
     "text": [
      "Hannah\n",
      "44\n",
      "Jake\n",
      "31\n"
     ]
    }
   ],
   "source": [
    "p = Person('Hannah', 44)\n",
    "\n",
    "print(p.get_name())\n",
    "print(p.get_age())\n",
    "\n",
    "p.set_name('Jake')\n",
    "p.set_age(31)\n",
    "\n",
    "print(p.get_name())\n",
    "print(p.get_age())\n",
    "    "
   ]
  },
  {
   "attachments": {},
   "cell_type": "markdown",
   "metadata": {},
   "source": [
    "2a. Create a class Circle with a private attribute radius.\n",
    "\n",
    "Provide getter and setter methods for this attribute.\n",
    "\n",
    "Also provide a method area that calculates the area of the circle."
   ]
  },
  {
   "cell_type": "code",
   "execution_count": 2,
   "metadata": {},
   "outputs": [],
   "source": [
    "class Circle:\n",
    "    def __init__(self, radius):\n",
    "        self.__radius = radius\n",
    "\n",
    "    def get_radius(self):\n",
    "        return self.__radius\n",
    "    \n",
    "    def set_radius(self, radius):\n",
    "        self.__radius = radius\n",
    "\n",
    "    def area(self):\n",
    "        return 3.14 * self.__radius * self.__radius\n",
    "    \n"
   ]
  },
  {
   "attachments": {},
   "cell_type": "markdown",
   "metadata": {},
   "source": [
    "2b. Create an object of the Circle class.\n",
    "\n",
    "Get the radius using the getter method.\n",
    "\n",
    "Calculate and print the area of the circle.\n",
    "\n",
    "Set the radius using the setter method."
   ]
  },
  {
   "cell_type": "code",
   "execution_count": 6,
   "metadata": {},
   "outputs": [
    {
     "name": "stdout",
     "output_type": "stream",
     "text": [
      "10\n",
      "<bound method Circle.area of <__main__.Circle object at 0x00000263697A1160>>\n"
     ]
    }
   ],
   "source": [
    "c = Circle(10)\n",
    "\n",
    "print(c.get_radius())\n",
    "print(c.area)\n",
    "\n",
    "c.set_radius(6)\n"
   ]
  },
  {
   "attachments": {},
   "cell_type": "markdown",
   "metadata": {},
   "source": [
    "2c. Get the updated radius and calculate the new area."
   ]
  },
  {
   "cell_type": "code",
   "execution_count": 5,
   "metadata": {},
   "outputs": [
    {
     "name": "stdout",
     "output_type": "stream",
     "text": [
      "18\n",
      "1017.36\n"
     ]
    }
   ],
   "source": [
    "print(c.get_radius())\n",
    "print(c.area())"
   ]
  },
  {
   "attachments": {},
   "cell_type": "markdown",
   "metadata": {},
   "source": [
    "### Task 4: Exception Handling"
   ]
  },
  {
   "attachments": {},
   "cell_type": "markdown",
   "metadata": {},
   "source": [
    "1. Write a Python program to handle an error that occurs when you try to divide by zero."
   ]
  },
  {
   "cell_type": "code",
   "execution_count": 10,
   "metadata": {},
   "outputs": [
    {
     "name": "stdout",
     "output_type": "stream",
     "text": [
      "Invalid input, please input a number.\n"
     ]
    }
   ],
   "source": [
    "try:\n",
    "    n = int(input('Input a number:'))\n",
    "    result = 100/n\n",
    "    print('Result:', result)\n",
    "except ZeroDivisionError:\n",
    "    print(\"Cannot divide by zero!\")\n",
    "except ValueError:\n",
    "    print('Invalid input, please input a number.')"
   ]
  },
  {
   "attachments": {},
   "cell_type": "markdown",
   "metadata": {},
   "source": [
    "2. Write a Python program to handle an error that occurs when you try to convert a string to an integer."
   ]
  },
  {
   "cell_type": "code",
   "execution_count": 11,
   "metadata": {},
   "outputs": [
    {
     "name": "stdout",
     "output_type": "stream",
     "text": [
      "That is not a number\n"
     ]
    }
   ],
   "source": [
    "try:\n",
    "    num = int('abc')\n",
    "except ValueError:  \n",
    "    print('That is not a number')"
   ]
  },
  {
   "attachments": {},
   "cell_type": "markdown",
   "metadata": {},
   "source": [
    "3. Write a Python program to handle an error that occurs when you try to open a file that doesn’t exist."
   ]
  },
  {
   "cell_type": "code",
   "execution_count": 12,
   "metadata": {},
   "outputs": [
    {
     "name": "stdout",
     "output_type": "stream",
     "text": [
      "File not found\n"
     ]
    }
   ],
   "source": [
    "try:\n",
    "    file = open('Nofile.txt', 'r')\n",
    "    content = file.read()\n",
    "    print(content)\n",
    "except FileNotFoundError:\n",
    "    print('File not found')"
   ]
  },
  {
   "attachments": {},
   "cell_type": "markdown",
   "metadata": {},
   "source": [
    "4. Write a Python program that uses a try/except/else block. The else block should run if no exceptions were raised in the try block."
   ]
  },
  {
   "cell_type": "code",
   "execution_count": 14,
   "metadata": {},
   "outputs": [
    {
     "name": "stdout",
     "output_type": "stream",
     "text": [
      "That is not a valid number\n"
     ]
    }
   ],
   "source": [
    "try:\n",
    "    number = int(input('Enter a number'))\n",
    "except ValueError:\n",
    "    print('That is not a valid number')\n",
    "else:\n",
    "    print('That is a valid number')"
   ]
  },
  {
   "attachments": {},
   "cell_type": "markdown",
   "metadata": {},
   "source": [
    "5. Write a Python program to handle an error that occurs when you try to divide by zero.\n",
    "\n",
    "Use a finally block to print a message regardless of whether an exception was raised."
   ]
  },
  {
   "cell_type": "code",
   "execution_count": 16,
   "metadata": {},
   "outputs": [
    {
     "name": "stdout",
     "output_type": "stream",
     "text": [
      "Cannot divide by zero!\n",
      "Thank you for your input\n"
     ]
    }
   ],
   "source": [
    "try:\n",
    "    n = int(input('Input a number:'))\n",
    "    result = 100/n\n",
    "    print('Result:', result)\n",
    "except ZeroDivisionError:\n",
    "    print(\"Cannot divide by zero!\")\n",
    "except ValueError:\n",
    "    print('Invalid input, please input a number.')\n",
    "finally:\n",
    "    print('Thank you for your input')"
   ]
  },
  {
   "attachments": {},
   "cell_type": "markdown",
   "metadata": {},
   "source": [
    "6. Write a Python program to handle an error that occurs when you try to convert a string to an integer. Use a finally block to print a message regardless of whether an exception was raised."
   ]
  },
  {
   "cell_type": "code",
   "execution_count": 17,
   "metadata": {},
   "outputs": [
    {
     "name": "stdout",
     "output_type": "stream",
     "text": [
      "That is not a number\n",
      "Thank you\n"
     ]
    }
   ],
   "source": [
    "try:\n",
    "    num = int('abc')\n",
    "except ValueError:  \n",
    "    print('That is not a number')\n",
    "finally:\n",
    "    print('Thank you')"
   ]
  },
  {
   "attachments": {},
   "cell_type": "markdown",
   "metadata": {},
   "source": [
    "### Task 5: Functional Programming"
   ]
  },
  {
   "attachments": {},
   "cell_type": "markdown",
   "metadata": {},
   "source": [
    "1a. Write a lambda function that takes two numbers and returns their sum.\n",
    "\n",
    "```\n",
    "sum = lambda x, y: x + y\n",
    "```\n"
   ]
  },
  {
   "cell_type": "code",
   "execution_count": 18,
   "metadata": {},
   "outputs": [],
   "source": [
    "sum = lambda x, y: x + y\n"
   ]
  },
  {
   "attachments": {},
   "cell_type": "markdown",
   "metadata": {},
   "source": [
    "1b. Print the result."
   ]
  },
  {
   "cell_type": "code",
   "execution_count": 23,
   "metadata": {},
   "outputs": [
    {
     "name": "stdout",
     "output_type": "stream",
     "text": [
      "22\n"
     ]
    }
   ],
   "source": [
    "result = sum(3, 19)\n",
    "print(result)\n"
   ]
  },
  {
   "attachments": {},
   "cell_type": "markdown",
   "metadata": {},
   "source": [
    "2a. Write a lambda function that takes a string and returns its length.\n"
   ]
  },
  {
   "cell_type": "code",
   "execution_count": 27,
   "metadata": {},
   "outputs": [],
   "source": [
    "length = lambda s: len(s)"
   ]
  },
  {
   "attachments": {},
   "cell_type": "markdown",
   "metadata": {},
   "source": [
    "2b. Call the lambda function with a string."
   ]
  },
  {
   "cell_type": "code",
   "execution_count": 29,
   "metadata": {},
   "outputs": [
    {
     "name": "stdout",
     "output_type": "stream",
     "text": [
      "<function <lambda> at 0x000002636B707060>\n"
     ]
    }
   ],
   "source": [
    "text = length('Hello everyone')"
   ]
  },
  {
   "attachments": {},
   "cell_type": "markdown",
   "metadata": {},
   "source": [
    "2c. Print the result."
   ]
  },
  {
   "cell_type": "code",
   "execution_count": 30,
   "metadata": {},
   "outputs": [
    {
     "name": "stdout",
     "output_type": "stream",
     "text": [
      "14\n"
     ]
    }
   ],
   "source": [
    "print(text)"
   ]
  },
  {
   "attachments": {},
   "cell_type": "markdown",
   "metadata": {},
   "source": [
    "3a. Use the map function and a lambda function to square all numbers in a list.\n",
    "\n",
    "```\n",
    "numbers = [1, 2, 3, 4, 5]\n",
    "```"
   ]
  },
  {
   "cell_type": "code",
   "execution_count": 38,
   "metadata": {},
   "outputs": [],
   "source": [
    "numbers = [1, 3, 5, 6, 8, 10]\n",
    "sq_numbers = map(lambda x: x** 2, numbers)\n"
   ]
  },
  {
   "attachments": {},
   "cell_type": "markdown",
   "metadata": {},
   "source": [
    "3b. Convert the map object to a list and print it."
   ]
  },
  {
   "cell_type": "code",
   "execution_count": 39,
   "metadata": {},
   "outputs": [
    {
     "name": "stdout",
     "output_type": "stream",
     "text": [
      "[1, 9, 25, 36, 64, 100]\n"
     ]
    }
   ],
   "source": [
    "print(list(sq_numbers))\n"
   ]
  },
  {
   "attachments": {},
   "cell_type": "markdown",
   "metadata": {},
   "source": [
    "4a. Use the filter function and a lambda function to remove all odd numbers from a list.\n",
    "\n",
    "```\n",
    "numbers = [1, 2, 3, 4, 5]\n",
    "```"
   ]
  },
  {
   "cell_type": "code",
   "execution_count": 47,
   "metadata": {},
   "outputs": [],
   "source": [
    "numbers = [1, 2, 3, 4, 5]\n",
    "even_nums = filter(lambda x: x%2 ==0, numbers)"
   ]
  },
  {
   "attachments": {},
   "cell_type": "markdown",
   "metadata": {},
   "source": [
    "4b. Convert the filter object to a list and print it."
   ]
  },
  {
   "cell_type": "code",
   "execution_count": 50,
   "metadata": {},
   "outputs": [
    {
     "name": "stdout",
     "output_type": "stream",
     "text": [
      "[2, 4]\n"
     ]
    }
   ],
   "source": [
    "print(list(even_nums))"
   ]
  },
  {
   "attachments": {},
   "cell_type": "markdown",
   "metadata": {},
   "source": [
    "5a. Use the reduce function and a lambda function to find the product of all numbers in a list.\n",
    "\n",
    "```\n",
    "from functools import reduce\n",
    "\n",
    "numbers = [1, 2, 3, 4, 5]\n",
    "```"
   ]
  },
  {
   "cell_type": "code",
   "execution_count": 51,
   "metadata": {},
   "outputs": [],
   "source": [
    "from functools import reduce\n",
    "\n",
    "numbers = [1, 2, 3, 4, 5]\n",
    "\n",
    "result = reduce(lambda x,y: x * y, numbers)\n"
   ]
  },
  {
   "attachments": {},
   "cell_type": "markdown",
   "metadata": {},
   "source": [
    "5b. Print the product"
   ]
  },
  {
   "cell_type": "code",
   "execution_count": 52,
   "metadata": {},
   "outputs": [
    {
     "name": "stdout",
     "output_type": "stream",
     "text": [
      "120\n"
     ]
    }
   ],
   "source": [
    "print(result)"
   ]
  },
  {
   "attachments": {},
   "cell_type": "markdown",
   "metadata": {},
   "source": [
    "6a. Use the map function and a lambda function to convert all strings in a list to uppercase.\n",
    "\n",
    "```\n",
    "strings = ['hello', 'world']\n",
    "```"
   ]
  },
  {
   "cell_type": "code",
   "execution_count": 54,
   "metadata": {},
   "outputs": [],
   "source": [
    "strings = ['hello', 'world']\n",
    "result = map(lambda s: s.upper(), strings)"
   ]
  },
  {
   "attachments": {},
   "cell_type": "markdown",
   "metadata": {},
   "source": [
    "6b. Convert the map object to a list and print it."
   ]
  },
  {
   "cell_type": "code",
   "execution_count": 56,
   "metadata": {},
   "outputs": [
    {
     "name": "stdout",
     "output_type": "stream",
     "text": [
      "['HELLO', 'WORLD']\n"
     ]
    }
   ],
   "source": [
    "print(list(result))"
   ]
  },
  {
   "attachments": {},
   "cell_type": "markdown",
   "metadata": {},
   "source": [
    "7a. Use the filter function and a lambda function to remove all strings from a list that have length less than 5.\n",
    "\n",
    "```\n",
    "['hello', 'hi', 'world', 'cat']\n",
    "```"
   ]
  },
  {
   "cell_type": "code",
   "execution_count": 62,
   "metadata": {},
   "outputs": [],
   "source": [
    "strings = ['hello', 'hi', 'world', 'cat']\n",
    "result = filter(lambda s: len(s) >=5, strings)\n",
    "\n"
   ]
  },
  {
   "attachments": {},
   "cell_type": "markdown",
   "metadata": {},
   "source": [
    "7b. Convert the filter object to a list and print it."
   ]
  },
  {
   "cell_type": "code",
   "execution_count": 63,
   "metadata": {},
   "outputs": [
    {
     "name": "stdout",
     "output_type": "stream",
     "text": [
      "['hello', 'world']\n"
     ]
    }
   ],
   "source": [
    "print(list(result))"
   ]
  },
  {
   "attachments": {},
   "cell_type": "markdown",
   "metadata": {},
   "source": [
    "8a. Use the reduce function and a lambda function to concatenate all strings in a list.\n",
    "\n",
    "```\n",
    "from functools import reduce\n",
    "\n",
    "strings = ['hello', ' ', 'world']\n",
    "```"
   ]
  },
  {
   "cell_type": "code",
   "execution_count": 71,
   "metadata": {},
   "outputs": [],
   "source": [
    "from functools import reduce\n",
    "\n",
    "strings = ['hello', ' ', 'world']\n",
    "result = reduce(lambda s1, s2: s1 + s2, strings)\n"
   ]
  },
  {
   "attachments": {},
   "cell_type": "markdown",
   "metadata": {},
   "source": [
    "8b. Print the concatenated string."
   ]
  },
  {
   "cell_type": "code",
   "execution_count": 72,
   "metadata": {},
   "outputs": [
    {
     "name": "stdout",
     "output_type": "stream",
     "text": [
      "hello world\n"
     ]
    }
   ],
   "source": [
    "# Print the concatenated string\n",
    "print(result)"
   ]
  },
  {
   "attachments": {},
   "cell_type": "markdown",
   "metadata": {},
   "source": [
    "9a. Use the map function and a lambda function to calculate the length of all strings in a list.\n",
    "\n",
    "```\n",
    "['hello', 'world']\n",
    "```"
   ]
  },
  {
   "cell_type": "code",
   "execution_count": 75,
   "metadata": {},
   "outputs": [],
   "source": [
    "strings = ['hello', 'world']\n",
    "result = map(lambda s: len(s), strings)"
   ]
  },
  {
   "attachments": {},
   "cell_type": "markdown",
   "metadata": {},
   "source": [
    "9b. Convert the map object to a list and print it."
   ]
  },
  {
   "cell_type": "code",
   "execution_count": 76,
   "metadata": {},
   "outputs": [
    {
     "name": "stdout",
     "output_type": "stream",
     "text": [
      "[5, 5]\n"
     ]
    }
   ],
   "source": [
    "print(list(result))"
   ]
  },
  {
   "attachments": {},
   "cell_type": "markdown",
   "metadata": {},
   "source": [
    "10a. Use the filter function and a lambda function to remove all strings from a list that do not start with the letter ‘h’.\n",
    "\n",
    "```\n",
    "['hello', 'hi', 'world', 'cat']\n",
    "```"
   ]
  },
  {
   "cell_type": "code",
   "execution_count": 77,
   "metadata": {},
   "outputs": [],
   "source": [
    "strings = ['hello', 'hi', 'world', 'cat']\n",
    "result = filter(lambda s: s[0] =='h', strings)"
   ]
  },
  {
   "attachments": {},
   "cell_type": "markdown",
   "metadata": {},
   "source": [
    "10b. Convert the filter object to a list and print it."
   ]
  },
  {
   "cell_type": "code",
   "execution_count": 78,
   "metadata": {},
   "outputs": [
    {
     "name": "stdout",
     "output_type": "stream",
     "text": [
      "['hello', 'hi']\n"
     ]
    }
   ],
   "source": [
    "print(list(result))"
   ]
  },
  {
   "attachments": {},
   "cell_type": "markdown",
   "metadata": {},
   "source": [
    "### Task 6: List Comprehension"
   ]
  },
  {
   "attachments": {},
   "cell_type": "markdown",
   "metadata": {},
   "source": [
    "1. Create a list of squares for all numbers from 1 to 5.\n",
    "\n",
    "Print the result."
   ]
  },
  {
   "cell_type": "code",
   "execution_count": 80,
   "metadata": {},
   "outputs": [
    {
     "name": "stdout",
     "output_type": "stream",
     "text": [
      "[1, 4, 9, 16, 25]\n"
     ]
    }
   ],
   "source": [
    "squares = [x**2 for x in range(1, 6)]\n",
    "print(squares)  "
   ]
  },
  {
   "attachments": {},
   "cell_type": "markdown",
   "metadata": {},
   "source": [
    "2. Create a list of all even numbers from 1 to 10.\n",
    "\n",
    "Print the result.\n",
    "\n",
    "Note: this will contain a conditional(if) using and require some research into the modulus % operator."
   ]
  },
  {
   "cell_type": "code",
   "execution_count": 81,
   "metadata": {},
   "outputs": [
    {
     "name": "stdout",
     "output_type": "stream",
     "text": [
      "['H', 'W']\n"
     ]
    }
   ],
   "source": [
    "#couldn't work out how to do this one\n",
    "\n",
    "even_numbers = [x for x in range(1, 11) if x % 2 == 0]\n",
    "print(even_numbers)  # prints: [2, 4, 6, 8, 10]"
   ]
  },
  {
   "attachments": {},
   "cell_type": "markdown",
   "metadata": {},
   "source": [
    "3. Create a list of all uppercase characters in a string.\n",
    "\n",
    "```\n",
    "string = Hello World\n",
    "```\n",
    "\n",
    "Print the result.\n",
    "\n",
    "Note: This will contain a conditional(if) using .isupper() function."
   ]
  },
  {
   "cell_type": "code",
   "execution_count": 83,
   "metadata": {},
   "outputs": [
    {
     "name": "stdout",
     "output_type": "stream",
     "text": [
      "['H', 'W']\n"
     ]
    }
   ],
   "source": [
    "string='Hello World'\n",
    "uppercase_chars = [char for char in string if char.isupper()]\n",
    "print(uppercase_chars)\n"
   ]
  },
  {
   "attachments": {},
   "cell_type": "markdown",
   "metadata": {},
   "source": [
    "4. Create a list of lengths of all words in a sentence.\n",
    "\n",
    "Print the result.\n",
    "\n",
    "```\n",
    "sentence = Hello world this is a test\n",
    "```\n",
    "\n",
    "Note: Can utilise .split()"
   ]
  },
  {
   "cell_type": "code",
   "execution_count": 86,
   "metadata": {},
   "outputs": [
    {
     "name": "stdout",
     "output_type": "stream",
     "text": [
      "['H', 'e', 'l', 'l', 'o', 'W', 'o', 'r', 'l', 'd']\n",
      "[5, 5, 4, 2, 1, 4]\n"
     ]
    }
   ],
   "source": [
    "sentence = 'Hello world this is a test'\n",
    "split = [char for char in string if char.split()]\n",
    "print(split)\n",
    "\n",
    "split = [len(word) for word in sentence.split()]\n",
    "print(split)\n"
   ]
  },
  {
   "attachments": {},
   "cell_type": "markdown",
   "metadata": {},
   "source": [
    "5. Create a list of all numbers from 1 to 10 that are divisible by either 2 or 5.\n",
    "\n",
    "Print the result.\n",
    "\n",
    "Note: can utilise the modulus % operator, and two conditionals 'if' and 'or'."
   ]
  },
  {
   "cell_type": "code",
   "execution_count": 88,
   "metadata": {},
   "outputs": [
    {
     "name": "stdout",
     "output_type": "stream",
     "text": [
      "[2, 4, 5, 6, 8]\n"
     ]
    }
   ],
   "source": [
    "divisible_num = [x for x in range(1, 10) if x % 2 == 0 or x % 5 == 0]\n",
    "print(divisible_num)"
   ]
  },
  {
   "attachments": {},
   "cell_type": "markdown",
   "metadata": {},
   "source": [
    "###### Task 7: HomeWork - File I/O"
   ]
  },
  {
   "attachments": {},
   "cell_type": "markdown",
   "metadata": {},
   "source": []
  },
  {
   "cell_type": "code",
   "execution_count": null,
   "metadata": {},
   "outputs": [],
   "source": []
  }
 ],
 "metadata": {
  "kernelspec": {
   "display_name": "Python 3 (ipykernel)",
   "language": "python",
   "name": "python3"
  },
  "language_info": {
   "codemirror_mode": {
    "name": "ipython",
    "version": 3
   },
   "file_extension": ".py",
   "mimetype": "text/x-python",
   "name": "python",
   "nbconvert_exporter": "python",
   "pygments_lexer": "ipython3",
   "version": "3.12.2"
  }
 },
 "nbformat": 4,
 "nbformat_minor": 4
}
